{
 "cells": [
  {
   "cell_type": "code",
   "execution_count": 1,
   "metadata": {},
   "outputs": [
    {
     "name": "stderr",
     "output_type": "stream",
     "text": [
      "/Users/simeon/.pyenv/versions/3.8.9/lib/python3.8/site-packages/ztfquery/io.py:304: UserWarning: No test designed for ampel_api_archive_token. Cannot test if logins are correct.\n",
      "  warnings.warn(f\"No test designed for {which}. Cannot test if logins are correct.\")\n"
     ]
    }
   ],
   "source": [
    "import logging\n",
    "from nuztf.skymap_scanner import SkymapScanner"
   ]
  },
  {
   "cell_type": "code",
   "execution_count": 2,
   "metadata": {},
   "outputs": [],
   "source": [
    "logger = logging.getLogger(__name__)\n",
    "logger.setLevel(logging.INFO)"
   ]
  },
  {
   "cell_type": "code",
   "execution_count": 3,
   "metadata": {},
   "outputs": [],
   "source": [
    "# Look for transients first detected within 72 hours of merger\n",
    "n_days = 3.0"
   ]
  },
  {
   "cell_type": "markdown",
   "metadata": {},
   "source": [
    "GravWaveScanner can be initialised with optional arguments *gw_name* and *rev*. By default, it loads the most recent LIGO public event, and the most recent revision. Alternatively, a fits file can be saved to the LIGO_skymaps directory, and its name specified with *gw_file*."
   ]
  },
  {
   "cell_type": "code",
   "execution_count": 4,
   "metadata": {
    "scrolled": false
   },
   "outputs": [],
   "source": [
    "event_name = \"GRB210927A\"\n",
    "prob_threshold = 0.9"
   ]
  },
  {
   "cell_type": "code",
   "execution_count": 5,
   "metadata": {},
   "outputs": [
    {
     "name": "stderr",
     "output_type": "stream",
     "text": [
      "INFO:__main__:Found multiple events. Will choose the one corresponding the GRB letter A\n",
      "INFO:__main__:Continuing with saved skymap. Located at /Users/simeon/ZTFDATA/GRB_skymaps/glg_healpix_all_bn210927031_v00.fit\n",
      "INFO:__main__:Reading file: /Users/simeon/ZTFDATA/GRB_skymaps/glg_healpix_all_bn210927031_v00.fit\n",
      "INFO:__main__:Summed probability is 100.0%\n",
      "INFO:__main__:Event time: 2021-09-27T00:41:51.000\n",
      "INFO:__main__:Reading map\n",
      "INFO:__main__:Threshold found! \n",
      " To reach 90.00108631353214% of probability, pixels with probability greater than 2.6478172003407963e-05 are included.\n",
      "INFO:__main__:Threshold found! \n",
      " To reach 90.00108631353214% of probability, pixels with probability greater than 2.6478172003407963e-05 are included.\n",
      "INFO:__main__:Checking which pixels are within the contour:\n",
      "100%|███████████████████████████████████| 196608/196608 [00:00<00:00, 1475899.44it/s]\n",
      "INFO:__main__:Total pixel area: 1642.2878402669505 degrees\n",
      "INFO:__main__:AMPEL run config:\n",
      "INFO:__main__:{'min_ndet': 1, 'min_tspan': -1, 'max_tspan': 365, 'min_rb': 0.3, 'max_fwhm': 5.5, 'max_elong': 1.4, 'max_magdiff': 1.0, 'max_nbad': 2, 'min_sso_dist': 20, 'min_gal_lat': 0.0, 'gaia_rs': 10.0, 'gaia_pm_signif': 3, 'gaia_plx_signif': 3, 'gaia_veto_gmag_min': 9, 'gaia_veto_gmag_max': 20, 'gaia_excessnoise_sig_max': 999, 'ps1_sgveto_rad': 1.0, 'ps1_sgveto_th': 0.8, 'ps1_confusion_rad': 3.0, 'ps1_confusion_sg_tol': 0.1}\n",
      "INFO:__main__:Using min_ndet=1\n",
      "INFO:__main__:Using min_tspan=-1.0\n",
      "INFO:__main__:Using max_tspan=365.0\n",
      "INFO:__main__:Using min_archive_tspan=0.0\n",
      "INFO:__main__:Using max_archive_tspan=100000.0\n",
      "INFO:__main__:Using min_drb=0.0\n",
      "INFO:__main__:Using min_rb=0.3\n",
      "INFO:__main__:Using max_fwhm=5.5\n",
      "INFO:__main__:Using max_elong=1.4\n",
      "INFO:__main__:Using max_magdiff=1.0\n",
      "INFO:__main__:Using max_nbad=2\n",
      "INFO:__main__:Using min_sso_dist=20.0\n",
      "INFO:__main__:Using min_gal_lat=0.0\n",
      "INFO:__main__:Using ps1_sgveto_rad=1.0\n",
      "INFO:__main__:Using ps1_sgveto_th=0.8\n",
      "INFO:__main__:Using ps1_confusion_rad=3.0\n",
      "INFO:__main__:Using ps1_confusion_sg_tol=0.1\n",
      "INFO:__main__:Using gaia_rs=10.0\n",
      "INFO:__main__:Using gaia_pm_signif=3.0\n",
      "INFO:__main__:Using gaia_plx_signif=3.0\n",
      "INFO:__main__:Using gaia_veto_gmag_min=9.0\n",
      "INFO:__main__:Using gaia_veto_gmag_max=20.0\n",
      "INFO:__main__:Using gaia_excessnoise_sig_max=999.0\n",
      "100%|████████████████████████████████████████| 2020/2020 [00:00<00:00, 106719.92it/s]\n",
      "INFO:__main__:Time-range is 2021-09-27T00:41:51.000 -- 2021-09-30T00:41:51.000\n"
     ]
    }
   ],
   "source": [
    "scanner = SkymapScanner(\n",
    "    event_name=event_name,\n",
    "    # skymap_file=skymap_file,\n",
    "    scan_mode=\"grb\",\n",
    "    prob_threshold=prob_threshold,\n",
    "    n_days=3,\n",
    "    logger=logger\n",
    ")"
   ]
  },
  {
   "cell_type": "code",
   "execution_count": null,
   "metadata": {
    "scrolled": false
   },
   "outputs": [],
   "source": [
    "scanner.plot_skymap()\n",
    "scanner.get_alerts()\n",
    "scanner.filter_alerts()\n",
    "scanner.create_candidate_summary()\n",
    "scanner.plot_coverage()"
   ]
  }
 ],
 "metadata": {
  "kernelspec": {
   "display_name": "Python 3 (ipykernel)",
   "language": "python",
   "name": "python3"
  },
  "language_info": {
   "codemirror_mode": {
    "name": "ipython",
    "version": 3
   },
   "file_extension": ".py",
   "mimetype": "text/x-python",
   "name": "python",
   "nbconvert_exporter": "python",
   "pygments_lexer": "ipython3",
   "version": "3.8.9"
  }
 },
 "nbformat": 4,
 "nbformat_minor": 2
}
