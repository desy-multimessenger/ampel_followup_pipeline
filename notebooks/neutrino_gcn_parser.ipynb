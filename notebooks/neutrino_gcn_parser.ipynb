{
 "cells": [
  {
   "cell_type": "code",
   "execution_count": 1,
   "metadata": {},
   "outputs": [],
   "source": [
    "from nuztf.neutrino_scanner import NeutrinoScanner"
   ]
  },
  {
   "cell_type": "code",
   "execution_count": 2,
   "metadata": {},
   "outputs": [],
   "source": [
    "import logging\n",
    "logger = logging.getLogger(\"nuztf\")\n",
    "logger.setLevel(\"INFO\")"
   ]
  },
  {
   "cell_type": "markdown",
   "metadata": {},
   "source": [
    "NeutrinoScanner can be initialised with optional arguments nu_name. By default, it loads the most recent IceCube GCN circular. If a name is specified, it searches for matching GCN circulars. You can also initialise it with manual_args=(name, ra, dec, nu_time), where ra/dec are each lists in the form of [best fit, +delta_p, -delta_m]. The nu_time must be an astropy.time object. An example is found at the bottom of the script."
   ]
  },
  {
   "cell_type": "code",
   "execution_count": 3,
   "metadata": {
    "scrolled": false
   },
   "outputs": [
    {
     "name": "stderr",
     "output_type": "stream",
     "text": [
      "INFO:nuztf.neutrino_scanner:Checking for GCN on https://gcn.gsfc.nasa.gov/gcn3_archive.html\n"
     ]
    },
    {
     "name": "stdout",
     "output_type": "stream",
     "text": [
      "Found match to IC220624A:  IceCube-220624A\n"
     ]
    },
    {
     "name": "stderr",
     "output_type": "stream",
     "text": [
      "INFO:nuztf.neutrino_scanner:{'name': 'IceCube-220624A', 'author': 'Santander', 'time': <Time object: scale='utc' format='isot' value=2022-06-24T16:13:16.410>, 'ra': 224.12, 'ra_err': [2.23, -1.95], 'dec': 41.31, 'dec_err': [1.56, -1.56]}\n",
      "INFO:nuztf.neutrino_scanner:Neutrino time: 2022-06-24T16:13:16.410\n",
      "INFO:nuztf.neutrino_scanner:Coordinates: RA = 224.12 (222.17000000000002 - 226.35)\n",
      "INFO:nuztf.neutrino_scanner:Coordinates: Dec = 41.31 (39.75 - 42.870000000000005)\n",
      "INFO:nuztf.base_scanner:AMPEL run config:\n",
      "INFO:nuztf.base_scanner:{'min_ndet': 1, 'min_tspan': -1, 'max_tspan': 365, 'min_rb': 0.0, 'max_fwhm': 5.5, 'max_elong': 1.4, 'max_magdiff': 1.0, 'max_nbad': 2, 'min_sso_dist': 20, 'min_gal_lat': -1.0, 'gaia_rs': 20, 'gaia_pm_signif': 3, 'gaia_plx_signif': 3, 'gaia_veto_gmag_min': 9, 'gaia_veto_gmag_max': 20, 'gaia_excessnoise_sig_max': 999, 'ps1_sgveto_rad': 1, 'ps1_sgveto_th': 0.8, 'ps1_confusion_rad': 3, 'ps1_confusion_sg_tol': 0.1}\n",
      "\n",
      "2022-06-27 20:58:18 DecentFilter:72 INFO\n",
      " Using min_ndet=1\n",
      " Using min_tspan=-1.0\n",
      " Using max_tspan=365.0\n",
      " Using min_archive_tspan=0.0\n",
      " Using max_archive_tspan=100000.0\n",
      " Using min_drb=0.0\n",
      " Using min_rb=0.0\n",
      " Using max_fwhm=5.5\n",
      " Using max_elong=1.4\n",
      " Using max_magdiff=1.0\n",
      " Using max_nbad=2\n",
      " Using min_sso_dist=20.0\n",
      " Using min_gal_lat=-1.0\n",
      " Using ps1_sgveto_rad=1.0\n",
      " Using ps1_sgveto_th=0.8\n",
      " Using ps1_confusion_rad=3.0\n",
      " Using ps1_confusion_sg_tol=0.1\n",
      " Using gaia_rs=20.0\n",
      " Using gaia_pm_signif=3.0\n",
      " Using gaia_plx_signif=3.0\n",
      " Using gaia_veto_gmag_min=9.0\n",
      " Using gaia_veto_gmag_max=20.0\n",
      " Using gaia_excessnoise_sig_max=999.0\n",
      "INFO:nuztf.base_scanner:Finding search pixels:\n",
      "100%|████████████████████████████████| 196608/196608 [00:02<00:00, 76777.33it/s]\n",
      "INFO:nuztf.base_scanner:Projected Area: 9.796 sq. deg.\n",
      "100%|████████████████████████████████████| 4178/4178 [00:00<00:00, 66213.51it/s]\n"
     ]
    }
   ],
   "source": [
    "nu = NeutrinoScanner(\"IC220624A\")"
   ]
  },
  {
   "cell_type": "code",
   "execution_count": 4,
   "metadata": {
    "scrolled": true
   },
   "outputs": [
    {
     "name": "stderr",
     "output_type": "stream",
     "text": [
      "INFO:nuztf.base_scanner:Commencing skymap scan\n",
      "INFO:nuztf.base_scanner:Done.\n",
      "INFO:nuztf.base_scanner:Before filtering: Found 206 candidates. Commencing filtering now.\n",
      "  0%|                                                   | 0/206 [00:00<?, ?it/s]\n",
      "2022-06-27 20:58:24 DecentFilter:332 INFO [distpsnr1=0.19612854719162]\n",
      "\n",
      "2022-06-27 20:58:24 DecentFilter:290 INFO [fwhm=5.6399998664856]\n",
      "\n",
      "2022-06-27 20:58:24 DecentFilter:295 INFO [elong=1.41366910934448]\n",
      "\n",
      "2022-06-27 20:58:24 DecentFilter:332 INFO [distpsnr1=0.236856639385223]\n",
      "\n",
      "2022-06-27 20:58:24 DecentFilter:332 INFO [distpsnr1=0.49079367518425]\n",
      "\n",
      "2022-06-27 20:58:24 DecentFilter:332 INFO [distpsnr1=0.222360536456108]\n",
      "\n",
      "2022-06-27 20:58:24 DecentFilter:332 INFO [distpsnr1=0.352776348590851]\n",
      "\n",
      "2022-06-27 20:58:24 DecentFilter:332 INFO [distpsnr1=0.294059574604034]\n",
      "\n",
      "2022-06-27 20:58:24 DecentFilter:332 INFO [distpsnr1=0.639519333839417]\n",
      "\n",
      "2022-06-27 20:58:24 DecentFilter:332 INFO [distpsnr1=0.806987226009369]\n",
      "\n",
      "2022-06-27 20:58:24 DecentFilter:332 INFO [distpsnr1=0.311078935861588]\n",
      "\n",
      "2022-06-27 20:58:24 DecentFilter:332 INFO [distpsnr1=0.340953856706619]\n",
      "\n",
      "2022-06-27 20:58:24 DecentFilter:332 INFO [distpsnr1=0.766047120094299]\n",
      "\n",
      "2022-06-27 20:58:24 DecentFilter:332 INFO [distpsnr1=0.421460509300232]\n",
      "\n",
      "2022-06-27 20:58:24 DecentFilter:332 INFO [distpsnr1=0.259587287902832]\n",
      "\n",
      "2022-06-27 20:58:24 DecentFilter:290 INFO [fwhm=6.61999988555908]\n",
      "\n",
      "2022-06-27 20:58:25 DecentFilter:343 INFO [gaiaIsStar=True]\n",
      " 55%|██████████████████████▋                  | 114/206 [00:01<00:00, 96.48it/s]\n",
      "2022-06-27 20:58:25 DecentFilter:332 INFO [distpsnr1=0.149436816573143]\n",
      "\n",
      "2022-06-27 20:58:25 DecentFilter:332 INFO [distpsnr1=0.187230572104454]\n",
      " 68%|███████████████████████████▊             | 140/206 [00:01<00:00, 97.49it/s]\n",
      "2022-06-27 20:58:25 DecentFilter:332 INFO [distpsnr1=0.498079895973206]\n",
      "\n",
      "2022-06-27 20:58:25 DecentFilter:332 INFO [distpsnr1=0.57319837808609]\n",
      " 73%|█████████████████████████████▊           | 150/206 [00:01<00:00, 82.38it/s]\n",
      "2022-06-27 20:58:25 DecentFilter:332 INFO [distpsnr1=0.238236591219902]\n",
      "\n",
      "2022-06-27 20:58:25 DecentFilter:332 INFO [distpsnr1=0.570245862007141]\n",
      "\n",
      "2022-06-27 20:58:25 DecentFilter:290 INFO [fwhm=5.96999979019165]\n",
      "\n",
      "2022-06-27 20:58:25 DecentFilter:332 INFO [distpsnr1=0.212132319808006]\n",
      "\n",
      "2022-06-27 20:58:25 DecentFilter:332 INFO [distpsnr1=0.184337943792343]\n",
      " 96%|██████████████████████████████████████▎ | 197/206 [00:01<00:00, 109.50it/s]\n",
      "2022-06-27 20:58:26 DecentFilter:332 INFO [distpsnr1=0.485488057136536]\n",
      "100%|████████████████████████████████████████| 206/206 [00:01<00:00, 104.87it/s]\n",
      "INFO:nuztf.base_scanner:2 candidates survive filtering\n",
      "INFO:nuztf.base_scanner:Retrieving alert history from AMPEL\n",
      "100%|█████████████████████████████████████████████| 2/2 [00:03<00:00,  1.63s/it]\n",
      "INFO:nuztf.base_scanner:Found 2 candidates\n",
      "INFO:nuztf.base_scanner:Saving lightcurves to: /Users/robertstein/Data/ZTF/neutrino_candidates/IceCube-220624A.pdf\n",
      "100%|█████████████████████████████████████████████| 2/2 [00:26<00:00, 13.47s/it]\n"
     ]
    }
   ],
   "source": [
    "nu.scan_area(t_max=nu.t_min + 14.)"
   ]
  },
  {
   "cell_type": "code",
   "execution_count": 5,
   "metadata": {},
   "outputs": [
    {
     "name": "stderr",
     "output_type": "stream",
     "text": [
      "WARNING:nuztf.base_scanner:Bad API call for source ZTF22aaparxg: <Response [400]>\n",
      "WARNING:nuztf.base_scanner:Bad API call for source ZTF19adgzidh: <Response [400]>\n",
      "INFO:nuztf.base_scanner:Saved 0 to fritz group 221\n"
     ]
    }
   ],
   "source": [
    "nu.export_cache_to_fritz()"
   ]
  },
  {
   "cell_type": "code",
   "execution_count": 6,
   "metadata": {
    "scrolled": false
   },
   "outputs": [
    {
     "name": "stdout",
     "output_type": "stream",
     "text": [
      "Candidate ZTF19adgzidh peaked at 19.2 (AT2021bei)on 2459743.8 with filter g. Max range of 1.2 mag with filter g. WISEA J150144.26+411658.7 ['G'-type source (0.01 arsec)] [TNS NAME=AT2021bei]\n",
      "Candidate ZTF22aaparxg peaked at 20.5 (AT2022nit)on 2459751.8 with filter r. Max range of 0.4 mag with filter g. WISEA J144950.63+412225.6 ['G'-type source (0.00 arsec)] [TNS NAME=AT2022nit]\n"
     ]
    }
   ],
   "source": [
    "nu.peak_mag_summary()"
   ]
  },
  {
   "cell_type": "code",
   "execution_count": 7,
   "metadata": {},
   "outputs": [],
   "source": [
    "# nu.plot_overlap_with_observations(first_det_window_days=3.)"
   ]
  },
  {
   "cell_type": "code",
   "execution_count": 8,
   "metadata": {},
   "outputs": [
    {
     "ename": "AttributeError",
     "evalue": "'NoneType' object has no attribute 'datetime'",
     "output_type": "error",
     "traceback": [
      "\u001b[0;31m---------------------------------------------------------------------------\u001b[0m",
      "\u001b[0;31mAttributeError\u001b[0m                            Traceback (most recent call last)",
      "\u001b[0;32m/var/folders/hd/1411jr114w9cvmmnw9mx0xvr0000gn/T/ipykernel_94185/199079879.py\u001b[0m in \u001b[0;36m<module>\u001b[0;34m\u001b[0m\n\u001b[0;32m----> 1\u001b[0;31m \u001b[0mprint\u001b[0m\u001b[0;34m(\u001b[0m\u001b[0mnu\u001b[0m\u001b[0;34m.\u001b[0m\u001b[0mdraft_gcn\u001b[0m\u001b[0;34m(\u001b[0m\u001b[0;34m)\u001b[0m\u001b[0;34m)\u001b[0m\u001b[0;34m\u001b[0m\u001b[0;34m\u001b[0m\u001b[0m\n\u001b[0m",
      "\u001b[0;32m~/Code/nuztf/nuztf/base_scanner.py\u001b[0m in \u001b[0;36mdraft_gcn\u001b[0;34m(self)\u001b[0m\n\u001b[1;32m    370\u001b[0m     \u001b[0;32mdef\u001b[0m \u001b[0mdraft_gcn\u001b[0m\u001b[0;34m(\u001b[0m\u001b[0mself\u001b[0m\u001b[0;34m)\u001b[0m\u001b[0;34m:\u001b[0m\u001b[0;34m\u001b[0m\u001b[0;34m\u001b[0m\u001b[0m\n\u001b[1;32m    371\u001b[0m \u001b[0;34m\u001b[0m\u001b[0m\n\u001b[0;32m--> 372\u001b[0;31m         \u001b[0mfirst_obs_dt\u001b[0m \u001b[0;34m=\u001b[0m \u001b[0mself\u001b[0m\u001b[0;34m.\u001b[0m\u001b[0mfirst_obs\u001b[0m\u001b[0;34m.\u001b[0m\u001b[0mdatetime\u001b[0m\u001b[0;34m\u001b[0m\u001b[0;34m\u001b[0m\u001b[0m\n\u001b[0m\u001b[1;32m    373\u001b[0m         \u001b[0mpretty_date\u001b[0m \u001b[0;34m=\u001b[0m \u001b[0mfirst_obs_dt\u001b[0m\u001b[0;34m.\u001b[0m\u001b[0mstrftime\u001b[0m\u001b[0;34m(\u001b[0m\u001b[0;34m\"%Y-%m-%d\"\u001b[0m\u001b[0;34m)\u001b[0m\u001b[0;34m\u001b[0m\u001b[0;34m\u001b[0m\u001b[0m\n\u001b[1;32m    374\u001b[0m         \u001b[0mpretty_time\u001b[0m \u001b[0;34m=\u001b[0m \u001b[0mfirst_obs_dt\u001b[0m\u001b[0;34m.\u001b[0m\u001b[0mstrftime\u001b[0m\u001b[0;34m(\u001b[0m\u001b[0;34m\"%H:%M\"\u001b[0m\u001b[0;34m)\u001b[0m\u001b[0;34m\u001b[0m\u001b[0;34m\u001b[0m\u001b[0m\n",
      "\u001b[0;31mAttributeError\u001b[0m: 'NoneType' object has no attribute 'datetime'"
     ]
    }
   ],
   "source": [
    "print(nu.draft_gcn())"
   ]
  },
  {
   "cell_type": "code",
   "execution_count": null,
   "metadata": {},
   "outputs": [],
   "source": [
    "# nu.plot_overlap_with_observations()"
   ]
  },
  {
   "cell_type": "code",
   "execution_count": null,
   "metadata": {},
   "outputs": [],
   "source": []
  },
  {
   "cell_type": "markdown",
   "metadata": {},
   "source": [
    "# Alternative Examples"
   ]
  },
  {
   "cell_type": "markdown",
   "metadata": {},
   "source": [
    "An example using an IC alert name is given below:"
   ]
  },
  {
   "cell_type": "code",
   "execution_count": null,
   "metadata": {},
   "outputs": [],
   "source": [
    "# nu = NeutrinoScanner(\"190503A\", logger=logger)\n",
    "# nu.scan_cones()"
   ]
  },
  {
   "cell_type": "markdown",
   "metadata": {},
   "source": [
    "An example using a manual specification of name/ra/dec/time is shown below:"
   ]
  },
  {
   "cell_type": "code",
   "execution_count": null,
   "metadata": {},
   "outputs": [],
   "source": [
    "# from ztfquery import fields as ztfquery_fields\n",
    "\n",
    "# fs = [542, 543, 544]\n",
    "# for f in fs:\n",
    "#     ra, dec = ztfquery_fields.field_to_coords(f)[0]\n",
    "#     print(f, ra, dec, ra-3.5, ra+3.5)"
   ]
  },
  {
   "cell_type": "code",
   "execution_count": null,
   "metadata": {},
   "outputs": [],
   "source": [
    "\n",
    "\n",
    "\n"
   ]
  },
  {
   "cell_type": "code",
   "execution_count": null,
   "metadata": {},
   "outputs": [],
   "source": []
  },
  {
   "cell_type": "code",
   "execution_count": null,
   "metadata": {},
   "outputs": [],
   "source": []
  },
  {
   "cell_type": "code",
   "execution_count": null,
   "metadata": {},
   "outputs": [],
   "source": []
  }
 ],
 "metadata": {
  "kernelspec": {
   "display_name": "nuztf",
   "language": "python",
   "name": "nuztf"
  },
  "language_info": {
   "codemirror_mode": {
    "name": "ipython",
    "version": 3
   },
   "file_extension": ".py",
   "mimetype": "text/x-python",
   "name": "python",
   "nbconvert_exporter": "python",
   "pygments_lexer": "ipython3",
   "version": "3.8.12"
  }
 },
 "nbformat": 4,
 "nbformat_minor": 2
}
