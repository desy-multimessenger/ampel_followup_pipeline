{
 "cells": [
  {
   "cell_type": "code",
   "execution_count": 1,
   "metadata": {},
   "outputs": [],
   "source": [
    "from nuztf.neutrino_scanner import NeutrinoScanner"
   ]
  },
  {
   "cell_type": "markdown",
   "metadata": {},
   "source": [
    "NeutrinoScanner can be initialised with optional arguments nu_name. By default, it loads the most recent IceCube GCN circular. If a name is specified, it searches for matching GCN circulars. You can also initialise it with manual_args=(name, ra, dec, nu_time), where ra/dec are each lists in the form of [best fit, +delta_p, -delta_m]. The nu_time must be an astropy.time object. An example is found at the bottom of the script."
   ]
  },
  {
   "cell_type": "code",
   "execution_count": 2,
   "metadata": {
    "scrolled": false
   },
   "outputs": [
    {
     "name": "stdout",
     "output_type": "stream",
     "text": [
      "Checking for GCN on https://gcn.gsfc.nasa.gov/gcn3_archive.html\n",
      "Found match to IC210811A:  IceCube-210811A\n",
      "Match is  IceCube-210811A (GCN #30627)\n",
      "{'name': 'IceCube-210811A', 'author': 'Santander', 'time': <Time object: scale='utc' format='isot' value=2021-08-11T02:02:44.040>, 'ra': 270.79, 'ra_err': [1.07, -1.08], 'dec': 25.28, 'dec_err': [0.79, -0.84]}\n",
      "Neutrino time: 2021-08-11T02:02:44.040\n",
      "Coordinates: RA = 270.79 (269.71000000000004 - 271.86)\n",
      "Coordinates: DEC = 25.28 (24.44 - 26.07)\n",
      "Finding search pixels:\n"
     ]
    },
    {
     "name": "stderr",
     "output_type": "stream",
     "text": [
      "100%|████████████████████████████████| 196608/196608 [00:03<00:00, 51715.48it/s]\n"
     ]
    },
    {
     "name": "stdout",
     "output_type": "stream",
     "text": [
      "Projected Area: 3.168879889666372\n"
     ]
    },
    {
     "name": "stderr",
     "output_type": "stream",
     "text": [
      "100%|████████████████████████████████████| 1105/1105 [00:00<00:00, 40674.58it/s]\n"
     ]
    }
   ],
   "source": [
    "nu = NeutrinoScanner(\"IC210811A\")"
   ]
  },
  {
   "cell_type": "code",
   "execution_count": 3,
   "metadata": {
    "scrolled": true
   },
   "outputs": [
    {
     "name": "stderr",
     "output_type": "stream",
     "text": [
      "100%|███████████████████████████████████████████| 36/36 [00:47<00:00,  1.31s/it]\n",
      "100%|█████████████████████████████████████████████| 2/2 [00:09<00:00,  4.53s/it]\n"
     ]
    }
   ],
   "source": [
    "nu.scan_cones(t_max=nu.t_min + 14.)"
   ]
  },
  {
   "cell_type": "code",
   "execution_count": 4,
   "metadata": {
    "scrolled": true
   },
   "outputs": [
    {
     "name": "stdout",
     "output_type": "stream",
     "text": [
      "Candidate ZTF20abjezpo peaked at 19.7 on 2459391.8 with filter r \n",
      "Candidate ZTF21absmcwm peaked at 20.8 on 2459427.8 with filter g [MILLIQUAS: SDSS J180116.94+243524.8 - Likely QSO (prob = 99.0%) (0.33 arsec)]\n"
     ]
    }
   ],
   "source": [
    "nu.peak_mag_summary()"
   ]
  },
  {
   "cell_type": "code",
   "execution_count": 5,
   "metadata": {},
   "outputs": [
    {
     "name": "stderr",
     "output_type": "stream",
     "text": [
      "/usr/local/anaconda3/envs/nuztf_env/lib/python3.8/site-packages/ztfquery/skyvision.py:222: UserWarning: Column format does not match the completed_log date downloade for 2021-08-11\n",
      "  warnings.warn(f\"Column format does not match the completed_log date downloade for {date}\")\n",
      "/usr/local/anaconda3/envs/nuztf_env/lib/python3.8/site-packages/ztfquery/skyvision.py:59: UserWarning: Download did not seem successful. Cannot retreive the completed_log for 2021-08-11\n",
      "  warnings.warn(f\"Download did not seem successful. Cannot retreive the {which}_log for {date}\")\n"
     ]
    },
    {
     "name": "stdout",
     "output_type": "stream",
     "text": [
      "FORMAT ERROR: [['Log', 'queue.20210811.dat', 'does', 'not', 'exists']]\n"
     ]
    },
    {
     "name": "stderr",
     "output_type": "stream",
     "text": [
      "/usr/local/anaconda3/envs/nuztf_env/lib/python3.8/site-packages/ztfquery/skyvision.py:222: UserWarning: Column format does not match the completed_log date downloade for 2021-08-12\n",
      "  warnings.warn(f\"Column format does not match the completed_log date downloade for {date}\")\n",
      "/usr/local/anaconda3/envs/nuztf_env/lib/python3.8/site-packages/ztfquery/skyvision.py:59: UserWarning: Download did not seem successful. Cannot retreive the completed_log for 2021-08-12\n",
      "  warnings.warn(f\"Download did not seem successful. Cannot retreive the {which}_log for {date}\")\n"
     ]
    },
    {
     "name": "stdout",
     "output_type": "stream",
     "text": [
      "FORMAT ERROR: [['Log', 'queue.20210812.dat', 'does', 'not', 'exists']]\n"
     ]
    },
    {
     "name": "stderr",
     "output_type": "stream",
     "text": [
      "100%|█████████████████████████████████████████| 710/710 [00:55<00:00, 12.82it/s]\n",
      "100%|████████████████████████████████████████| 924/924 [00:01<00:00, 463.54it/s]\n"
     ]
    },
    {
     "name": "stdout",
     "output_type": "stream",
     "text": [
      "811 pixels were covered, covering approximately 2.7 sq deg.\n",
      "811 pixels were covered at least twice (b>10), covering approximately 2.7 sq deg.\n",
      "0 pixels were covered at low galactic latitude, covering approximately 0 sq deg.\n"
     ]
    },
    {
     "data": {
      "text/plain": [
       "(<Figure size 432x288 with 1 Axes>,\n",
       " 'In total, 87.77 % of the contour was observed at least once. \\n This estimate includes 0.00 % of the contour at a galactic latitude <10 deg. \\n In total, 87.77 % of the contour was observed at least twice. \\nIn total, 87.77 % of the contour was observed at least twice, and excluding low galactic latitudes. \\nThese estimates accounts for chip gaps.')"
      ]
     },
     "execution_count": 5,
     "metadata": {},
     "output_type": "execute_result"
    },
    {
     "data": {
      "image/png": "[encoded data removed]",
      "text/plain": [
       "<Figure size 432x288 with 1 Axes>"
      ]
     },
     "metadata": {
      "needs_background": "light"
     },
     "output_type": "display_data"
    }
   ],
   "source": [
    "nu.plot_overlap_with_observations(first_det_window_days=3.)"
   ]
  },
  {
   "cell_type": "code",
   "execution_count": 6,
   "metadata": {},
   "outputs": [
    {
     "name": "stdout",
     "output_type": "stream",
     "text": [
      "Astronomer Name (Institute of Somewhere), ............. report,\n",
      "On behalf of the Zwicky Transient Facility (ZTF) and Global Relay of Observatories Watching Transients Happen (GROWTH) collaborations: \n",
      "We observed the localization region of the neutrino event IceCube-210811A (Santander et. al, GCN 30627) with the Palomar 48-inch telescope, equipped with the 47 square degree ZTF camera (Bellm et al. 2019, Graham et al. 2019). We started observations in the g-band and r-band beginning at 2021-08-13 04:40 UTC, approximately 50.6 hours after event time. We covered 2.7 sq deg, corresponding to 87.8% of the reported localization region. This estimate accounts for chip gaps. Each exposure was 300s with a typical depth of 21.0 mag. \n",
      " \n",
      "The images were processed in real-time through the ZTF reduction and image subtraction pipelines at IPAC to search for potential counterparts (Masci et al. 2019). AMPEL (Nordin et al. 2019, Stein et al. 2021) was used to search the alerts database for candidates. We reject stellar sources (Tachibana and Miller 2018) and moving objects, and apply machine learning algorithms (Mahabal et al. 2019) . We are left with the following high-significance transient candidates by our pipeline, all lying within the 90.0% localization of the skymap.\n",
      "\n",
      "+--------------------------------------------------------------------------------+\n",
      "| ZTF Name     | IAU Name  | RA (deg)    | DEC (deg)   | Filter | Mag   | MagErr |\n",
      "+--------------------------------------------------------------------------------+\n",
      "| ZTF20abjezpo |  -------  | 270.9662242 | +25.4351853 | r      | 19.80 | 0.16   | (MORE THAN ONE DAY SINCE SECOND DETECTION) \n",
      "| ZTF21absmcwm |  -------  | 270.3206525 | +24.5901679 | g      | 21.71 | 0.17   | (MORE THAN ONE DAY SINCE SECOND DETECTION) \n",
      "+--------------------------------------------------------------------------------+\n",
      "\n",
      " \n",
      "\n",
      "Amongst our candidates, \n",
      "ZTF20abjezpo was first detected on 2459056.837419. \n",
      "ZTF21absmcwm was first detected on 2459427.7873727. [MILLIQUAS: SDSS J180116.94+243524.8 - Likely QSO (prob = 99.0%) (0.33 arsec)]\n",
      "\n",
      "\n",
      "ZTF and GROWTH are worldwide collaborations comprising Caltech, USA; IPAC, USA; WIS, Israel; OKC, Sweden; JSI/UMd, USA; DESY, Germany; TANGO, Taiwan; UW Milwaukee, USA; LANL, USA; TCD, Ireland; IN2P3, France.\n",
      "\n",
      "GROWTH acknowledges generous support of the NSF under PIRE Grant No 1545949.\n",
      "Alert distribution service provided by DIRAC@UW (Patterson et al. 2019).\n",
      "Alert database searches are done by AMPEL (Nordin et al. 2019).\n",
      "Alert filtering is performed with the AMPEL Follow-up Pipeline (Stein et al. 2021).\n",
      "\n"
     ]
    }
   ],
   "source": [
    "print(nu.draft_gcn())"
   ]
  },
  {
   "cell_type": "code",
   "execution_count": 7,
   "metadata": {},
   "outputs": [],
   "source": [
    "# nu.plot_overlap_with_observations()"
   ]
  },
  {
   "cell_type": "code",
   "execution_count": null,
   "metadata": {},
   "outputs": [],
   "source": []
  },
  {
   "cell_type": "markdown",
   "metadata": {},
   "source": [
    "# Alternative Examples"
   ]
  },
  {
   "cell_type": "markdown",
   "metadata": {},
   "source": [
    "An example using an IC alert name is given below:"
   ]
  },
  {
   "cell_type": "code",
   "execution_count": 8,
   "metadata": {},
   "outputs": [],
   "source": [
    "# nu = NeutrinoScanner(\"190503A\", logger=logger)\n",
    "# nu.scan_cones()"
   ]
  },
  {
   "cell_type": "markdown",
   "metadata": {},
   "source": [
    "An example using a manual specification of name/ra/dec/time is shown below:"
   ]
  },
  {
   "cell_type": "code",
   "execution_count": 9,
   "metadata": {},
   "outputs": [],
   "source": [
    "# from ztfquery import fields as ztfquery_fields\n",
    "\n",
    "# fs = [542, 543, 544]\n",
    "# for f in fs:\n",
    "#     ra, dec = ztfquery_fields.field_to_coords(f)[0]\n",
    "#     print(f, ra, dec, ra-3.5, ra+3.5)"
   ]
  },
  {
   "cell_type": "code",
   "execution_count": null,
   "metadata": {},
   "outputs": [],
   "source": [
    "\n",
    "\n",
    "\n"
   ]
  },
  {
   "cell_type": "code",
   "execution_count": null,
   "metadata": {},
   "outputs": [],
   "source": []
  },
  {
   "cell_type": "code",
   "execution_count": null,
   "metadata": {},
   "outputs": [],
   "source": []
  }
 ],
 "metadata": {
  "kernelspec": {
   "display_name": "nuztf",
   "language": "python",
   "name": "nuztf"
  },
  "language_info": {
   "codemirror_mode": {
    "name": "ipython",
    "version": 3
   },
   "file_extension": ".py",
   "mimetype": "text/x-python",
   "name": "python",
   "nbconvert_exporter": "python",
   "pygments_lexer": "ipython3",
   "version": "3.8.11"
  }
 },
 "nbformat": 4,
 "nbformat_minor": 2
}
