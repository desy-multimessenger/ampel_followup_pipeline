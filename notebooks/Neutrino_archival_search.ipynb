{
 "cells": [
  {
   "cell_type": "code",
   "execution_count": 1,
   "metadata": {},
   "outputs": [
    {
     "ename": "ModuleNotFoundError",
     "evalue": "No module named 'neutrino_scanner'",
     "output_type": "error",
     "traceback": [
      "\u001b[0;31m---------------------------------------------------------------------------\u001b[0m",
      "\u001b[0;31mModuleNotFoundError\u001b[0m                       Traceback (most recent call last)",
      "\u001b[0;32m/var/folders/05/1vvz7h1n6q3_qyj_b538n_xm0000gn/T/ipykernel_52326/1651689920.py\u001b[0m in \u001b[0;36m<module>\u001b[0;34m\u001b[0m\n\u001b[0;32m----> 1\u001b[0;31m \u001b[0;32mfrom\u001b[0m \u001b[0mneutrino_scanner\u001b[0m \u001b[0;32mimport\u001b[0m \u001b[0mNeutrinoScanner\u001b[0m\u001b[0;34m\u001b[0m\u001b[0;34m\u001b[0m\u001b[0m\n\u001b[0m",
      "\u001b[0;31mModuleNotFoundError\u001b[0m: No module named 'neutrino_scanner'"
     ]
    }
   ],
   "source": [
    "from neutrino_scanner import NeutrinoScanner"
   ]
  },
  {
   "cell_type": "code",
   "execution_count": 2,
   "metadata": {},
   "outputs": [],
   "source": [
    "import logging\n",
    "\n",
    "logger = logging.getLogger(\"quiet_logger\")\n",
    "logger.setLevel(logging.ERROR)"
   ]
  },
  {
   "cell_type": "markdown",
   "metadata": {},
   "source": [
    "NeutrinoScanner can be initialised with optional arguments nu_name. By default, it loads the most recent IceCube GCN circular. If a name is specified, it searches for matching GCN circulars. You can also initialise it with manual_args=(name, ra, dec, nu_time), where ra/dec are each lists in the form of [best fit, +delta_p, -delta_m]. The nu_time must be an astropy.time object. An example is found at the bottom of the script."
   ]
  },
  {
   "cell_type": "code",
   "execution_count": 3,
   "metadata": {
    "scrolled": false
   },
   "outputs": [
    {
     "name": "stdout",
     "output_type": "stream",
     "text": [
      "Checking for GCN on https://gcn.gsfc.nasa.gov/gcn3_archive.html\n",
      "Found match to IC200530A:  IceCube-200530A\n",
      "Match is  IceCube-200530A (GCN #27865)\n",
      "Found GCN: https://gcn.gsfc.nasa.gov/gcn3/27865.gcn3\n",
      "TIME 2020-05-30T07:54:29.430 58999.329507291666\n",
      "58994.329507291666 58994.329507291666\n",
      "Neutrino time: 58994.329507291666\n",
      "Coordinates: RA = 255.37 (252.81 - 257.85)\n",
      "Coordinates: Dec = 26.61 (23.33 - 28.939999999999998)\n"
     ]
    },
    {
     "name": "stderr",
     "output_type": "stream",
     "text": [
      "  2%|▏         | 4866/196608 [00:00<00:03, 48659.58it/s]"
     ]
    },
    {
     "name": "stdout",
     "output_type": "stream",
     "text": [
      "Finding search pixels:\n"
     ]
    },
    {
     "name": "stderr",
     "output_type": "stream",
     "text": [
      "100%|██████████| 196608/196608 [00:03<00:00, 57166.15it/s]\n",
      " 56%|█████▌    | 4193/7536 [00:00<00:00, 41926.64it/s]"
     ]
    },
    {
     "name": "stdout",
     "output_type": "stream",
     "text": [
      "Projected Area: 25.279464561341438\n"
     ]
    },
    {
     "name": "stderr",
     "output_type": "stream",
     "text": [
      "100%|██████████| 7536/7536 [00:00<00:00, 32419.57it/s]\n"
     ]
    }
   ],
   "source": [
    "nu = NeutrinoScanner(\"IC200530A\", logger=logger, t_offset=5.0)"
   ]
  },
  {
   "cell_type": "code",
   "execution_count": 4,
   "metadata": {
    "scrolled": false
   },
   "outputs": [],
   "source": [
    "# nu.scan_cones()"
   ]
  },
  {
   "cell_type": "code",
   "execution_count": 5,
   "metadata": {},
   "outputs": [],
   "source": [
    "# nu.plot_overlap_with_observations(first_det_window_days=3)"
   ]
  },
  {
   "cell_type": "code",
   "execution_count": 6,
   "metadata": {},
   "outputs": [],
   "source": [
    "# print(nu.draft_gcn())"
   ]
  },
  {
   "cell_type": "code",
   "execution_count": 7,
   "metadata": {},
   "outputs": [],
   "source": [
    "# nu.plot_overlap_with_observations()"
   ]
  },
  {
   "cell_type": "code",
   "execution_count": 8,
   "metadata": {},
   "outputs": [],
   "source": [
    "# nu.simple_plot_overlap_with_observations()"
   ]
  },
  {
   "cell_type": "markdown",
   "metadata": {},
   "source": [
    "# Alternative Examples"
   ]
  },
  {
   "cell_type": "markdown",
   "metadata": {},
   "source": [
    "An example using an IC alert name is given below:"
   ]
  },
  {
   "cell_type": "code",
   "execution_count": 9,
   "metadata": {},
   "outputs": [],
   "source": [
    "# nu = NeutrinoScanner(\"190503A\", logger=logger)\n",
    "# nu.scan_cones()"
   ]
  },
  {
   "cell_type": "markdown",
   "metadata": {},
   "source": [
    "An example using a manual specification of name/ra/dec/time is shown below:"
   ]
  },
  {
   "cell_type": "code",
   "execution_count": null,
   "metadata": {},
   "outputs": [
    {
     "name": "stdout",
     "output_type": "stream",
     "text": [
      "Neutrino time: 2020-01-08T09:30:14.480\n",
      "Coordinates: RA = 142.5603 (141.6603 - 143.46030000000002)\n",
      "Coordinates: Dec = -18.0672 (-18.9672 - -17.1672)\n"
     ]
    },
    {
     "name": "stderr",
     "output_type": "stream",
     "text": [
      "  6%|▋         | 12368/196608 [00:00<00:03, 61137.16it/s]"
     ]
    },
    {
     "name": "stdout",
     "output_type": "stream",
     "text": [
      "Finding search pixels:\n"
     ]
    },
    {
     "name": "stderr",
     "output_type": "stream",
     "text": [
      "100%|██████████| 196608/196608 [00:03<00:00, 61345.10it/s]\n",
      "100%|██████████| 778/778 [00:00<00:00, 44921.86it/s]\n",
      "  0%|          | 0/32 [00:00<?, ?it/s]"
     ]
    },
    {
     "name": "stdout",
     "output_type": "stream",
     "text": [
      "Projected Area: 3.0802467073013053\n",
      "Commencing Ampel queries!\n",
      "Scan radius is 0.47778497003680387\n",
      "So far, 0 pixels out of 32 have already been scanned.\n"
     ]
    },
    {
     "name": "stderr",
     "output_type": "stream",
     "text": [
      " 41%|████      | 13/32 [00:12<00:17,  1.11it/s]/usr/local/anaconda3/envs/ZTF_ToO/lib/python3.7/site-packages/astropy/table/column.py:1020: RuntimeWarning: invalid value encountered in greater\n",
      "  result = getattr(super(), op)(other)\n",
      "100%|██████████| 32/32 [00:26<00:00,  1.20it/s]\n",
      "  0%|          | 0/2 [00:00<?, ?it/s]"
     ]
    },
    {
     "name": "stdout",
     "output_type": "stream",
     "text": [
      "Scanned 32 pixels\n",
      "Found 2 candidates\n",
      "Saving to: /Users/robertstein/Code/ZTF_ToO_toolkit/Neutrino_candidates/LAT-ANTARES.pdf\n"
     ]
    },
    {
     "name": "stderr",
     "output_type": "stream",
     "text": [
      "100%|██████████| 2/2 [00:14<00:00,  7.19s/it]\n",
      "  0%|          | 0/212 [00:00<?, ?it/s]"
     ]
    },
    {
     "name": "stdout",
     "output_type": "stream",
     "text": [
      "Using 212 Nightly Summaries between 20200108 and 20200806\n"
     ]
    },
    {
     "name": "stderr",
     "output_type": "stream",
     "text": [
      " 13%|█▎        | 28/212 [00:56<06:25,  2.09s/it]"
     ]
    }
   ],
   "source": [
    "from neutrino_scanner import NeutrinoScanner\n",
    "from astropy.time import Time\n",
    "\n",
    "nu = NeutrinoScanner(\n",
    "    manual_args=(\n",
    "        \"LAT-ANTARES\",\n",
    "        [142.5603, +0.9, -0.9],\n",
    "        [-18.0672, +0.9, -0.9],\n",
    "        Time(\"2020-01-08T09:30:14.48\", format=\"isot\", scale=\"utc\"),\n",
    "    ),\n",
    "    logger=logger,\n",
    ")\n",
    "nu.scan_cones()\n",
    "nu.plot_overlap_with_observations()"
   ]
  },
  {
   "cell_type": "code",
   "execution_count": null,
   "metadata": {},
   "outputs": [],
   "source": [
    "from ztfquery import fields as ztfquery_fields\n",
    "\n",
    "fs = [542, 543, 544]\n",
    "for f in fs:\n",
    "    ra, dec = ztfquery_fields.field_to_coords(f)[0]\n",
    "    print(f, ra, dec, ra - 3.5, ra + 3.5)"
   ]
  },
  {
   "cell_type": "code",
   "execution_count": null,
   "metadata": {},
   "outputs": [],
   "source": []
  },
  {
   "cell_type": "code",
   "execution_count": null,
   "metadata": {},
   "outputs": [],
   "source": []
  },
  {
   "cell_type": "code",
   "execution_count": null,
   "metadata": {},
   "outputs": [],
   "source": []
  }
 ],
 "metadata": {
  "kernelspec": {
   "display_name": "Python 3 (ipykernel)",
   "language": "python",
   "name": "python3"
  },
  "language_info": {
   "codemirror_mode": {
    "name": "ipython",
    "version": 3
   },
   "file_extension": ".py",
   "mimetype": "text/x-python",
   "name": "python",
   "nbconvert_exporter": "python",
   "pygments_lexer": "ipython3",
   "version": "3.8.9"
  }
 },
 "nbformat": 4,
 "nbformat_minor": 2
}
