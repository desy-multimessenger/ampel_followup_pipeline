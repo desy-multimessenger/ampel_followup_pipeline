{
 "cells": [
  {
   "cell_type": "code",
   "execution_count": 1,
   "id": "1207192d",
   "metadata": {},
   "outputs": [],
   "source": [
    "import logging\n",
    "from nuztf.forced_photometry import plot_forced_photometry_lightcurve"
   ]
  },
  {
   "cell_type": "code",
   "execution_count": 2,
   "id": "9fec6764",
   "metadata": {},
   "outputs": [],
   "source": [
    "logging.getLogger(\"nuztf\").setLevel(\"DEBUG\")"
   ]
  },
  {
   "cell_type": "code",
   "execution_count": null,
   "id": "bcc07f6e",
   "metadata": {},
   "outputs": [
    {
     "name": "stderr",
     "output_type": "stream",
     "text": [
      "INFO:nuztf.cat_match:Using Astropy NED query result for name SDSS J145552.56+414030.4 ([223.96902, 41.67512])\n",
      "INFO:nuztf.forced_photometry:Requesting IRSA photometry (rerequest is False, cached file does not. This will take some time!\n",
      "INFO:nuztf.forced_photometry:Lightcurve not found, sleeping for 60.0 seconds. Warning: the lightcurve webpage is only updated hourly.\n",
      "INFO:nuztf.forced_photometry:Lightcurve not found, sleeping for 60.0 seconds. Warning: the lightcurve webpage is only updated hourly.\n",
      "INFO:nuztf.forced_photometry:Lightcurve not found, sleeping for 60.0 seconds. Warning: the lightcurve webpage is only updated hourly.\n",
      "INFO:nuztf.forced_photometry:Lightcurve not found, sleeping for 60.0 seconds. Warning: the lightcurve webpage is only updated hourly.\n"
     ]
    }
   ],
   "source": [
    "plot_forced_photometry_lightcurve(\n",
    "    \"SDSS J145552.56+414030.4\",\n",
    "    plot_mag=False,\n",
    "    nu_name=[\"IC220624A\"],\n",
    "    use_difference_flux=False,\n",
    "    snr_cut=5.0,\n",
    ")"
   ]
  },
  {
   "cell_type": "code",
   "execution_count": null,
   "id": "f33ec17f",
   "metadata": {},
   "outputs": [],
   "source": []
  }
 ],
 "metadata": {
  "kernelspec": {
   "display_name": "nuztf_env",
   "language": "python",
   "name": "nuztf_env"
  },
  "language_info": {
   "codemirror_mode": {
    "name": "ipython",
    "version": 3
   },
   "file_extension": ".py",
   "mimetype": "text/x-python",
   "name": "python",
   "nbconvert_exporter": "python",
   "pygments_lexer": "ipython3",
   "version": "3.8.12"
  }
 },
 "nbformat": 4,
 "nbformat_minor": 5
}
