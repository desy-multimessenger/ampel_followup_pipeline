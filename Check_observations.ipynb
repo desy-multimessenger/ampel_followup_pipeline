{
 "cells": [
  {
   "cell_type": "code",
   "execution_count": 1,
   "metadata": {},
   "outputs": [],
   "source": [
    "from ztfquery import query\n",
    "import numpy as np\n",
    "import datetime"
   ]
  },
  {
   "cell_type": "code",
   "execution_count": 2,
   "metadata": {},
   "outputs": [],
   "source": [
    "def get_ztf_data(date=None):\n",
    "    \"\"\"Function to grab data for a given date using ztfquery. \n",
    "    Date should be given in format YYYYMMDD, with the day being the UT day for the END of the night.\n",
    "    By default, today is selected\n",
    "    \"\"\"\n",
    "    if date is None:\n",
    "        print(\"No date specified. Assuming today.\")\n",
    "        now = datetime.datetime.now()\n",
    "        date = now.strftime(\"%Y%m%d\")\n",
    "    print(\"Date is\", date)\n",
    "    return query.NightSummary(date)"
   ]
  },
  {
   "cell_type": "code",
   "execution_count": 3,
   "metadata": {},
   "outputs": [
    {
     "name": "stdout",
     "output_type": "stream",
     "text": [
      "No date specified. Assuming today.\n",
      "Date is 20190810\n",
      "Most recent observation in database was at: 2019-08-10T04:52:43.4 (UT)\n"
     ]
    }
   ],
   "source": [
    "full_data = get_ztf_data()\n",
    "\n",
    "print(\"Most recent observation in database was at:\", full_data.data.iloc[-1][\"UT_START\"], \"(UT)\")"
   ]
  },
  {
   "cell_type": "code",
   "execution_count": 4,
   "metadata": {},
   "outputs": [
    {
     "name": "stdout",
     "output_type": "stream",
     "text": [
      "There are the following possible qcomments: {'all_sky', 'TESS_MSIP', 'high_cadence', 'Caltech_1DC'}\n"
     ]
    }
   ],
   "source": [
    "print(\"There are the following possible qcomments:\", set(full_data.data.qcomment))"
   ]
  },
  {
   "cell_type": "code",
   "execution_count": 5,
   "metadata": {},
   "outputs": [
    {
     "name": "stdout",
     "output_type": "stream",
     "text": [
      "The observations you want are labelled ToO\n",
      "There are 0 ToO observations\n",
      "No ToO observations found. Are you sure you have waited long enough?\n"
     ]
    }
   ],
   "source": [
    "print(\"The observations you want are labelled ToO\")\n",
    "mask = np.array([\"ToO\" in x for x in full_data.data.qcomment])\n",
    "print(\"There are\", np.sum(mask), \"ToO observations\")\n",
    "if np.sum(mask) == 0:\n",
    "    print(\"No ToO observations found. Are you sure you have waited long enough?\")"
   ]
  },
  {
   "cell_type": "code",
   "execution_count": 6,
   "metadata": {},
   "outputs": [
    {
     "name": "stdout",
     "output_type": "stream",
     "text": [
      "Summary of ToO observations:\n",
      "Empty DataFrame\n",
      "Columns: [UT_START, sun, exp, fid, type, field, pid, ra, dec, slew, wait, fileroot, progpi, qcomment]\n",
      "Index: []\n"
     ]
    }
   ],
   "source": [
    "too_data = full_data.data[mask]\n",
    "print(\"Summary of ToO observations:\")\n",
    "print(too_data)"
   ]
  },
  {
   "cell_type": "code",
   "execution_count": 7,
   "metadata": {},
   "outputs": [
    {
     "name": "stdout",
     "output_type": "stream",
     "text": [
      "                  UT_START  sun exp fid  type field pid        ra      dec  \\\n",
      "0    2019-08-10T03:38:17.5  -12  30   2  targ   384   1  280.6106  -9.8500   \n",
      "1    2019-08-10T03:38:58.5  -12  30   2  targ   434   1  270.2400  -2.6500   \n",
      "2    2019-08-10T03:39:42.7  -12  30   2  targ   587   2  267.1159  18.9500   \n",
      "3    2019-08-10T03:40:21.8  -12  30   2  targ   635   2  263.3263  26.1500   \n",
      "4    2019-08-10T03:41:00.7  -13  30   2  targ   681   2  259.0029  33.3500   \n",
      "5    2019-08-10T03:41:49.8  -13  30   2  targ   724   2  261.1845  40.5500   \n",
      "6    2019-08-10T03:42:35.9  -13  30   2  targ   795   2  246.7010  54.9500   \n",
      "7    2019-08-10T03:43:17.5  -13  30   2  targ   723   2  252.5677  40.5500   \n",
      "8    2019-08-10T03:43:57.8  -13  30   2  targ   761   2  243.8233  47.7500   \n",
      "9    2019-08-10T03:44:40.2  -13  30   2  targ   721   1  235.3341  40.5500   \n",
      "10   2019-08-10T03:45:20.3  -13  30   2  targ   720   1  226.7173  40.5500   \n",
      "11   2019-08-10T03:46:02.3  -13  30   2  targ   758   1  214.4993  47.7500   \n",
      "12   2019-08-10T03:46:41.3  -14  30   2  targ   792   1  213.4123  54.9500   \n",
      "13   2019-08-10T03:47:22.7  -14  30   2  targ   791   1  202.4011  54.9500   \n",
      "14   2019-08-10T03:48:01.7  -14  30   2  targ   757   1  204.7245  47.7500   \n",
      "15   2019-08-10T03:48:40.5  -14  30   2  targ   718   1  209.4836  40.5500   \n",
      "16   2019-08-10T03:49:19.5  -14  30   2  targ   675   1  211.8832  33.3500   \n",
      "17   2019-08-10T03:49:59.4  -14  30   2  targ   676   1  219.7365  33.3500   \n",
      "18   2019-08-10T03:50:39.6  -14  30   2  targ   628   1  210.9543  26.1500   \n",
      "19   2019-08-10T03:51:18.6  -14  30   2  targ   580   1  216.2361  18.9500   \n",
      "20   2019-08-10T03:51:57.4  -15  30   2  targ   629   1  218.4360  26.1500   \n",
      "21   2019-08-10T03:52:38.0  -15  30   2  targ   677   1  227.5898  33.3500   \n",
      "22   2019-08-10T03:53:17.7  -15  30   2  targ   678   1  235.4431  33.3500   \n",
      "23   2019-08-10T03:53:56.8  -15  30   2  targ   631   1  233.3994  26.1500   \n",
      "24   2019-08-10T03:54:36.3  -15  30   2  targ   632   1  240.8811  26.1500   \n",
      "25   2019-08-10T03:55:17.5  -15  30   2  targ   582   1  230.7732  18.9500   \n",
      "26   2019-08-10T03:55:57.0  -15  30   2  targ   581   1  223.5046  18.9500   \n",
      "27   2019-08-10T03:56:35.8  -15  30   2  targ   530   1  222.1005  11.7500   \n",
      "28   2019-08-10T03:57:15.1  -15  30   2  targ   531   1  229.0755  11.7500   \n",
      "29   2019-08-10T03:57:54.2  -16  30   2  targ   479   1  226.4589   4.5500   \n",
      "..                     ...  ...  ..  ..   ...   ...  ..       ...      ...   \n",
      "75   2019-08-10T04:31:03.7  -21  30   2  targ   637   3  278.2897  26.1500   \n",
      "76   2019-08-10T04:32:33.4  -22  30   2  targ   820   1  193.3333  62.1500   \n",
      "77   2019-08-10T04:33:12.3  -22  30   2  targ   844   1  197.1429  69.3500   \n",
      "78   2019-08-10T04:33:51.8  -22  30   2  targ   862   1  204.0000  76.5500   \n",
      "79   2019-08-10T04:34:33.5  -22  30   2  targ   821   1  206.6667  62.1500   \n",
      "80   2019-08-10T04:35:13.3  -22  30   2  targ   845   1  214.2857  69.3500   \n",
      "81   2019-08-10T04:35:52.3  -22  30   2  targ   822   1  220.0000  62.1500   \n",
      "82   2019-08-10T04:36:36.4  -22  30   2  targ   874   1  220.0000  83.7500   \n",
      "83   2019-08-10T04:37:16.5  -22  30   2  targ   863   1  228.0000  76.5500   \n",
      "84   2019-08-10T04:37:55.5  -22  30   2  targ   846   1  231.4286  69.3500   \n",
      "85   2019-08-10T04:38:34.3  -23  30   2  targ   823   1  233.3333  62.1500   \n",
      "86   2019-08-10T04:39:16.8  -23  30   2  targ   824   1  246.6667  62.1500   \n",
      "87   2019-08-10T04:39:55.7  -23  30   2  targ   847   1  248.5714  69.3500   \n",
      "88   2019-08-10T04:40:34.8  -23  30   2  targ   864   1  252.0000  76.5500   \n",
      "89   2019-08-10T04:41:18.9  -23  30   2  targ   796   1  257.7985  54.9500   \n",
      "90   2019-08-10T04:41:57.8  -23  30   2  targ   825   1  260.0000  62.1500   \n",
      "91   2019-08-10T04:42:42.0  -23  30   2  targ   875   1  260.0000  83.7500   \n",
      "92   2019-08-10T04:43:23.5  -23  30   2  targ   848   1  265.7143  69.3500   \n",
      "93   2019-08-10T04:44:05.5  -23  30   2  targ   797   1  268.8960  54.9500   \n",
      "94   2019-08-10T04:44:44.4  -24  30   2  targ   764   1  273.1474  47.7500   \n",
      "95   2019-08-10T04:45:26.1  -24  30   2  targ   826   1  273.3333  62.1500   \n",
      "96   2019-08-10T04:46:07.6  -24  30   2  targ   865   1  276.0000  76.5500   \n",
      "97   2019-08-10T04:46:56.7  -24  30   2  targ   726   1  278.4182  40.5500   \n",
      "98   2019-08-10T04:47:38.2  -24  30   2  targ   798   1  279.9935  54.9500   \n",
      "99   2019-08-10T04:48:31.4  -24  30   2  targ   684   1  282.5628  33.3500   \n",
      "100  2019-08-10T04:49:33.1  -24  30   2  targ   849   1  282.8571  69.3500   \n",
      "101  2019-08-10T04:50:17.3  -24  30   2  targ   765   1  282.9221  47.7500   \n",
      "102  2019-08-10T04:50:58.9  -25  30   2  targ   827   1  286.6667  62.1500   \n",
      "103  2019-08-10T04:51:42.9  -25  30   2  targ   727   1  287.0350  40.5500   \n",
      "104  2019-08-10T04:52:43.4  -25  30   2  targ   590   1  288.9216  18.9500   \n",
      "\n",
      "      slew  wait                      fileroot    progpi      qcomment  \n",
      "0    12.57  11.0  ztf_20190810151493_000384_zr  Kulkarni       all_sky  \n",
      "1    21.82  14.1  ztf_20190810152025_000434_zr  Kulkarni       all_sky  \n",
      "2     8.00   9.1  ztf_20190810152500_000587_zr  Kulkarni  high_cadence  \n",
      "3     8.12   8.9  ztf_20190810153009_000635_zr  Kulkarni  high_cadence  \n",
      "4     7.41  19.1  ztf_20190810153461_000681_zr  Kulkarni  high_cadence  \n",
      "5    17.31  16.1  ztf_20190810153912_000724_zr  Kulkarni  high_cadence  \n",
      "6    14.92  11.5  ztf_20190810154479_000795_zr  Kulkarni  high_cadence  \n",
      "7     9.54  10.3  ztf_20190810155012_000723_zr  Kulkarni  high_cadence  \n",
      "8     9.42  12.4  ztf_20190810155498_000761_zr  Kulkarni  high_cadence  \n",
      "9     6.54  10.2  ztf_20190810155972_000721_zr  Kulkarni       all_sky  \n",
      "10   11.32  12.0  ztf_20190810156458_000720_zr  Kulkarni       all_sky  \n",
      "11    7.23   8.9  ztf_20190810156921_000758_zr  Kulkarni       all_sky  \n",
      "12    6.32  11.4  ztf_20190810157407_000792_zr  Kulkarni       all_sky  \n",
      "13    7.34   9.0  ztf_20190810157859_000791_zr  Kulkarni       all_sky  \n",
      "14    7.96   8.9  ztf_20190810158333_000757_zr  Kulkarni       all_sky  \n",
      "15    7.45   9.0  ztf_20190810158785_000718_zr  Kulkarni       all_sky  \n",
      "16    6.56   9.8  ztf_20190810159236_000675_zr  Kulkarni       all_sky  \n",
      "17   10.48  10.2  ztf_20190810159688_000676_zr  Kulkarni       all_sky  \n",
      "18    8.69   9.1  ztf_20190810160150_000628_zr  Kulkarni       all_sky  \n",
      "19    7.48   8.8  ztf_20190810160613_000580_zr  Kulkarni       all_sky  \n",
      "20   10.71  10.6  ztf_20190810161065_000629_zr  Kulkarni       all_sky  \n",
      "21    6.56   9.6  ztf_20190810161516_000677_zr  Kulkarni       all_sky  \n",
      "22    7.41   9.1  ztf_20190810161991_000678_zr  Kulkarni       all_sky  \n",
      "23    6.71   9.5  ztf_20190810162442_000631_zr  Kulkarni       all_sky  \n",
      "24   11.78  11.2  ztf_20190810162894_000632_zr  Kulkarni       all_sky  \n",
      "25    6.87   9.5  ztf_20190810163356_000582_zr  Kulkarni       all_sky  \n",
      "26    7.33   8.8  ztf_20190810163831_000581_zr  Kulkarni       all_sky  \n",
      "27    6.83   9.3  ztf_20190810164282_000530_zr  Kulkarni       all_sky  \n",
      "28    7.65   9.1  ztf_20190810164734_000531_zr  Kulkarni       all_sky  \n",
      "29    6.82   9.2  ztf_20190810165197_000479_zr  Kulkarni       all_sky  \n",
      "..     ...   ...                           ...       ...           ...  \n",
      "75   64.75  59.7  ztf_20190810187708_000637_zr  Kulkarni   Caltech_1DC  \n",
      "76    7.36   8.9  ztf_20190810188669_000820_zr      TESS     TESS_MSIP  \n",
      "77    7.46   9.5  ztf_20190810189711_000844_zr      TESS     TESS_MSIP  \n",
      "78   14.43  11.6  ztf_20190810190162_000862_zr      TESS     TESS_MSIP  \n",
      "79    7.84   9.8  ztf_20190810190613_000821_zr      TESS     TESS_MSIP  \n",
      "80    7.57   9.0  ztf_20190810191100_000845_zr      TESS     TESS_MSIP  \n",
      "81   21.60  14.1  ztf_20190810191562_000822_zr      TESS     TESS_MSIP  \n",
      "82    7.31  10.1  ztf_20190810192014_000874_zr      TESS     TESS_MSIP  \n",
      "83    7.27   9.0  ztf_20190810192523_000863_zr      TESS     TESS_MSIP  \n",
      "84    7.24   8.8  ztf_20190810192986_000846_zr      TESS     TESS_MSIP  \n",
      "85    6.22  12.5  ztf_20190810193438_000823_zr      TESS     TESS_MSIP  \n",
      "86    7.24   9.0  ztf_20190810193889_000824_zr      TESS     TESS_MSIP  \n",
      "87    7.27   9.1  ztf_20190810194375_000847_zr      TESS     TESS_MSIP  \n",
      "88   21.71  14.1  ztf_20190810194826_000864_zr      TESS     TESS_MSIP  \n",
      "89    7.29   8.9  ztf_20190810195278_000796_zr      TESS     TESS_MSIP  \n",
      "90   21.60  14.2  ztf_20190810195787_000825_zr      TESS     TESS_MSIP  \n",
      "91   14.44  11.5  ztf_20190810196238_000875_zr      TESS     TESS_MSIP  \n",
      "92   14.47  11.9  ztf_20190810196759_000848_zr      TESS     TESS_MSIP  \n",
      "93    7.67   8.9  ztf_20190810197234_000797_zr      TESS     TESS_MSIP  \n",
      "94   14.40  11.7  ztf_20190810197720_000764_zr      TESS     TESS_MSIP  \n",
      "95   14.43  11.6  ztf_20190810198171_000826_zr      TESS     TESS_MSIP  \n",
      "96   36.02  19.0  ztf_20190810198646_000865_zr      TESS     TESS_MSIP  \n",
      "97   14.44  11.5  ztf_20190810199132_000726_zr      TESS     TESS_MSIP  \n",
      "98   21.67  23.2  ztf_20190810199699_000798_zr      TESS     TESS_MSIP  \n",
      "99   36.00  31.7  ztf_20190810200185_000684_zr      TESS     TESS_MSIP  \n",
      "100  21.60  14.2  ztf_20190810200799_000849_zr      TESS     TESS_MSIP  \n",
      "101  14.55  11.6  ztf_20190810201516_000765_zr      TESS     TESS_MSIP  \n",
      "102  21.60  14.0  ztf_20190810202025_000827_zr      TESS     TESS_MSIP  \n",
      "103  21.66  30.5  ztf_20190810202500_000727_zr      TESS     TESS_MSIP  \n",
      "104  -1.00  -1.0  ztf_20190810203021_000590_zr      TESS     TESS_MSIP  \n",
      "\n",
      "[105 rows x 14 columns]\n"
     ]
    }
   ],
   "source": [
    "print(full_data.data)"
   ]
  },
  {
   "cell_type": "code",
   "execution_count": null,
   "metadata": {},
   "outputs": [],
   "source": []
  }
 ],
 "metadata": {
  "kernelspec": {
   "display_name": "ampeltest",
   "language": "python",
   "name": "ampeltest"
  },
  "language_info": {
   "codemirror_mode": {
    "name": "ipython",
    "version": 3
   },
   "file_extension": ".py",
   "mimetype": "text/x-python",
   "name": "python",
   "nbconvert_exporter": "python",
   "pygments_lexer": "ipython3",
   "version": "3.6.5"
  }
 },
 "nbformat": 4,
 "nbformat_minor": 2
}
