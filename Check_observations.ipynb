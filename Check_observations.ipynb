{
 "cells": [
  {
   "cell_type": "code",
   "execution_count": 1,
   "metadata": {},
   "outputs": [],
   "source": [
    "from ztfquery import query\n",
    "import numpy as np\n",
    "import datetime"
   ]
  },
  {
   "cell_type": "code",
   "execution_count": 2,
   "metadata": {},
   "outputs": [
    {
     "name": "stdout",
     "output_type": "stream",
     "text": [
      "Today is 20190621\n"
     ]
    }
   ],
   "source": [
    "now = datetime.datetime.now()\n",
    "today = now.strftime(\"%Y%m%d\")\n",
    "print(\"Today is\", today)\n",
    "\n",
    "full_data = query.NightSummary(today)"
   ]
  },
  {
   "cell_type": "code",
   "execution_count": 3,
   "metadata": {},
   "outputs": [
    {
     "name": "stdout",
     "output_type": "stream",
     "text": [
      "There are the following possible qcomments: {'Caltech_RRLyr_427_6', 'TESS_S14', 'high_cadence', 'reference_building_r_0', 'all_sky', 'reference_building_g_0', 'reference_building_g_1', 'reference_building_r_1'}\n"
     ]
    }
   ],
   "source": [
    "print(\"There are the following possible qcomments:\", set(full_data.data.qcomment))"
   ]
  },
  {
   "cell_type": "code",
   "execution_count": 4,
   "metadata": {},
   "outputs": [
    {
     "name": "stdout",
     "output_type": "stream",
     "text": [
      "The observations you want are labelled ToO\n",
      "There are 0 ToO observations\n",
      "No ToO observations found. Are you sure you have waited long enough?\n",
      "Most recent observation in database was at: 431    2019-06-21T09:12:36.6\n",
      "Name: UT_START, dtype: object\n"
     ]
    }
   ],
   "source": [
    "print(\"The observations you want are labelled ToO\")\n",
    "mask = np.array([\"ToO\" in x for x in full_data.data.qcomment])\n",
    "print(\"There are\", np.sum(mask), \"ToO observations\")\n",
    "\n",
    "if np.sum(mask) == 0:\n",
    "    print(\"No ToO observations found. Are you sure you have waited long enough?\")\n",
    "    print(\"Most recent observation in database was at:\", full_data.data[-1:].UT_START)"
   ]
  },
  {
   "cell_type": "code",
   "execution_count": 5,
   "metadata": {},
   "outputs": [
    {
     "name": "stdout",
     "output_type": "stream",
     "text": [
      "Empty DataFrame\n",
      "Columns: [UT_START, sun, exp, fid, type, field, pid, ra, dec, slew, wait, fileroot, progpi, qcomment]\n",
      "Index: []\n"
     ]
    }
   ],
   "source": [
    "too_data = full_data.data[mask]\n",
    "print(too_data)"
   ]
  },
  {
   "cell_type": "markdown",
   "metadata": {},
   "source": [
    "# Checking Reference Images"
   ]
  },
  {
   "cell_type": "code",
   "execution_count": null,
   "metadata": {},
   "outputs": [
    {
     "name": "stdout",
     "output_type": "stream",
     "text": [
      "No irsa account setup, please provide it\n"
     ]
    }
   ],
   "source": [
    "zquery = query.ZTFQuery()\n",
    "zquery.load_metadata(kind=\"ref\",radec=[276.107960, +44.130398], size=0.0001,  sql_query=\"fid=1\")"
   ]
  },
  {
   "cell_type": "code",
   "execution_count": null,
   "metadata": {},
   "outputs": [],
   "source": []
  }
 ],
 "metadata": {
  "kernelspec": {
   "display_name": "ampeltest",
   "language": "python",
   "name": "ampeltest"
  },
  "language_info": {
   "codemirror_mode": {
    "name": "ipython",
    "version": 3
   },
   "file_extension": ".py",
   "mimetype": "text/x-python",
   "name": "python",
   "nbconvert_exporter": "python",
   "pygments_lexer": "ipython3",
   "version": "3.6.5"
  }
 },
 "nbformat": 4,
 "nbformat_minor": 2
}
