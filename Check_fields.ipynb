{
 "cells": [
  {
   "cell_type": "code",
   "execution_count": 9,
   "metadata": {},
   "outputs": [],
   "source": [
    "%matplotlib inline\n",
    "from ztfquery import fields, query\n",
    "from astropy import time\n",
    "import datetime"
   ]
  },
  {
   "cell_type": "code",
   "execution_count": 10,
   "metadata": {},
   "outputs": [],
   "source": [
    "fields_to_check = [547, 548]"
   ]
  },
  {
   "cell_type": "code",
   "execution_count": 11,
   "metadata": {},
   "outputs": [
    {
     "name": "stdout",
     "output_type": "stream",
     "text": [
      "547 {'zg': True, 'zr': True, 'zi': True}\n",
      "548 {'zg': True, 'zr': True, 'zi': True}\n"
     ]
    }
   ],
   "source": [
    "for field_number in fields_to_check:\n",
    "    print(field_number, fields.has_field_reference(field_number))"
   ]
  },
  {
   "cell_type": "markdown",
   "metadata": {},
   "source": [
    "Check ZTF observations for the last month, to see where has been observed:"
   ]
  },
  {
   "cell_type": "code",
   "execution_count": 31,
   "metadata": {},
   "outputs": [],
   "source": [
    "def get_zquery(start_date=None, end_date=None):\n",
    "    \n",
    "    date_format = \"%Y-%m-%d\"\n",
    "    \n",
    "    if start_date is None:\n",
    "        now = datetime.datetime.now()\n",
    "        last_month = now - datetime.timedelta(days=30)\n",
    "        start_date = last_month.strftime(date_format)\n",
    "    if end_date is None:\n",
    "        now = datetime.datetime.now()\n",
    "        end_date = now.strftime(date_format)\n",
    "    \n",
    "\n",
    "    # Convert to JD\n",
    "    jd_start = time.Time(start_date).jd\n",
    "    jd_end = time.Time(end_date).jd\n",
    "    # Do the Query to see what exists\n",
    "    zquery = query.ZTFQuery()\n",
    "    zquery.load_metadata(sql_query=\"pid>1 and obsjd BETWEEN {0} AND {1}\".format(jd_start, jd_end))# this will take about 1min\n",
    "    zquery.show_gri_fields(title=\"ZTF observations in from {0} to {1}\".format(start_date, end_date), grid=\"main\")\n"
   ]
  },
  {
   "cell_type": "code",
   "execution_count": null,
   "metadata": {},
   "outputs": [],
   "source": [
    "get_zquery()"
   ]
  },
  {
   "cell_type": "code",
   "execution_count": null,
   "metadata": {},
   "outputs": [],
   "source": []
  }
 ],
 "metadata": {
  "kernelspec": {
   "display_name": "ampeltest",
   "language": "python",
   "name": "ampeltest"
  },
  "language_info": {
   "codemirror_mode": {
    "name": "ipython",
    "version": 3
   },
   "file_extension": ".py",
   "mimetype": "text/x-python",
   "name": "python",
   "nbconvert_exporter": "python",
   "pygments_lexer": "ipython3",
   "version": "3.6.5"
  }
 },
 "nbformat": 4,
 "nbformat_minor": 2
}
