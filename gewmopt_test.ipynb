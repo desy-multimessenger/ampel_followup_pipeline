{
 "cells": [
  {
   "cell_type": "code",
   "execution_count": 52,
   "metadata": {},
   "outputs": [],
   "source": [
    "from gwemopt.ztf_tiling import ZTFtile, get_ztf_quadrants, get_quadrant_ipix\n",
    "import matplotlib.pyplot as plt\n",
    "%matplotlib inline\n",
    "from matplotlib.patches import Rectangle\n",
    "from matplotlib.collections import PatchCollection\n",
    "import healpy as hp"
   ]
  },
  {
   "cell_type": "code",
   "execution_count": 53,
   "metadata": {},
   "outputs": [],
   "source": [
    "tile = ZTFtile(180.0, 0.0)"
   ]
  },
  {
   "cell_type": "code",
   "execution_count": 54,
   "metadata": {},
   "outputs": [
    {
     "name": "stdout",
     "output_type": "stream",
     "text": [
      "<gwemopt.ztf_tiling.ZTFtile object at 0x119630390>\n"
     ]
    }
   ],
   "source": [
    "print(tile)"
   ]
  },
  {
   "cell_type": "code",
   "execution_count": 55,
   "metadata": {},
   "outputs": [],
   "source": [
    "res = get_ztf_quadrants()"
   ]
  },
  {
   "cell_type": "code",
   "execution_count": 56,
   "metadata": {},
   "outputs": [],
   "source": [
    "# print(res)"
   ]
  },
  {
   "cell_type": "code",
   "execution_count": 57,
   "metadata": {},
   "outputs": [
    {
     "name": "stdout",
     "output_type": "stream",
     "text": [
      "[183.21767702 182.35217783 182.34902476 183.21512066 181.36014418\n",
      " 180.49455545 180.49256373 181.35872764 179.50662204 178.64108625\n",
      " 178.63686421 179.50292808 177.64624086 176.78082208 176.77741467\n",
      " 177.64343288 183.22364146 182.35871547 182.35667706 183.22184348\n",
      " 181.36343687 180.49855354 180.49663514 181.36172689 179.51147661\n",
      " 178.64654073 178.64502929 179.51007634 177.65019793 176.78540173\n",
      " 176.78446985 177.64942387 183.22815466 182.3631176  182.36101995\n",
      " 183.22592779 181.36811351 180.50298366 180.50115373 181.36608003\n",
      " 179.51780255 178.6526825  178.65133199 179.51627949 177.65887011\n",
      " 176.79378245 176.79384878 177.65871359 183.23646867 182.37038968\n",
      " 182.36720967 183.23271775 181.37742531 180.51125182 180.50699471\n",
      " 181.3725454  179.52143968 178.65528312 178.65614721 179.52176074\n",
      " 177.66161224 176.79552272 176.79539637 177.660915  ] deg\n"
     ]
    }
   ],
   "source": [
    "quad_cents_ra, quad_cents_dec = tile.quadrant_centers()\n",
    "print(quad_cents_ra)"
   ]
  },
  {
   "cell_type": "code",
   "execution_count": 58,
   "metadata": {},
   "outputs": [
    {
     "data": {
      "text/plain": [
       "<matplotlib.collections.PathCollection at 0x119b44610>"
      ]
     },
     "execution_count": 58,
     "metadata": {},
     "output_type": "execute_result"
    },
    {
     "data": {
      "image/png": "[encoded data removed]",
      "text/plain": [
       "<Figure size 432x288 with 1 Axes>"
      ]
     },
     "metadata": {
      "needs_background": "light"
     },
     "output_type": "display_data"
    }
   ],
   "source": [
    "plt.scatter(quad_cents_ra, quad_cents_dec)"
   ]
  },
  {
   "cell_type": "code",
   "execution_count": 59,
   "metadata": {},
   "outputs": [
    {
     "name": "stdout",
     "output_type": "stream",
     "text": [
      "2\n"
     ]
    }
   ],
   "source": [
    "print(len(res))"
   ]
  },
  {
   "cell_type": "code",
   "execution_count": 60,
   "metadata": {},
   "outputs": [
    {
     "name": "stdout",
     "output_type": "stream",
     "text": [
      "Area 46.23999999999994 0.9436734693877539\n",
      "359.9488575585003\n"
     ]
    },
    {
     "data": {
      "image/png": "[encoded data removed]",
      "text/plain": [
       "<Figure size 432x288 with 1 Axes>"
      ]
     },
     "metadata": {
      "needs_background": "light"
     },
     "output_type": "display_data"
    }
   ],
   "source": [
    "ax = plt.subplot(111)\n",
    "\n",
    "ztf_width = 0.85\n",
    "\n",
    "rects = []\n",
    "\n",
    "area = 0.\n",
    "\n",
    "delta_x =[]\n",
    "delta_y = []\n",
    "\n",
    "for i, x in enumerate(res[0]):\n",
    "    delta_x.append(max(x)-min(x))\n",
    "    delta_y.append(max(res[1][i]) - min(res[1][i]))\n",
    "    rects.append(Rectangle((min(x), min(res[1][i])), ztf_width, ztf_width))\n",
    "    area += ztf_width**2\n",
    "        # Create patch collection with specified colour/alpha\n",
    "\n",
    "pc = PatchCollection(rects)\n",
    "\n",
    "print(\"Area\", area, area/49.)\n",
    "\n",
    "ax.add_collection(pc)\n",
    "plt.xlim(0, 4.)\n",
    "plt.ylim(-4., 4.)\n",
    "\n",
    "print(max(res[0].flatten()))\n",
    "# plt.figure()\n",
    "# plt.hist(delta_x)\n",
    "# plt.figure()\n",
    "# plt.hist(delta_y)"
   ]
  },
  {
   "cell_type": "code",
   "execution_count": 67,
   "metadata": {},
   "outputs": [],
   "source": [
    "pix = get_quadrant_ipix(512, 180.0, 0.0)"
   ]
  },
  {
   "cell_type": "code",
   "execution_count": 73,
   "metadata": {},
   "outputs": [
    {
     "data": {
      "image/png": "[encoded data removed]",
      "text/plain": [
       "<Figure size 432x288 with 1 Axes>"
      ]
     },
     "metadata": {
      "needs_background": "light"
     },
     "output_type": "display_data"
    }
   ],
   "source": [
    "for x in pix:\n",
    "    ra, dec = hp.pixelfunc.pix2ang(512, x, lonlat=True)\n",
    "    plt.scatter(ra, dec, s=1.5)"
   ]
  },
  {
   "cell_type": "code",
   "execution_count": null,
   "metadata": {},
   "outputs": [],
   "source": []
  },
  {
   "cell_type": "code",
   "execution_count": null,
   "metadata": {},
   "outputs": [],
   "source": []
  }
 ],
 "metadata": {
  "kernelspec": {
   "display_name": "ZTF_TOO",
   "language": "python",
   "name": "ztf_too"
  },
  "language_info": {
   "codemirror_mode": {
    "name": "ipython",
    "version": 3
   },
   "file_extension": ".py",
   "mimetype": "text/x-python",
   "name": "python",
   "nbconvert_exporter": "python",
   "pygments_lexer": "ipython3",
   "version": "3.7.4"
  }
 },
 "nbformat": 4,
 "nbformat_minor": 2
}
