{
 "cells": [
  {
   "cell_type": "code",
   "execution_count": 1,
   "metadata": {},
   "outputs": [],
   "source": [
    "from neutrino_scanner import NeutrinoScanner"
   ]
  },
  {
   "cell_type": "code",
   "execution_count": 2,
   "metadata": {},
   "outputs": [],
   "source": [
    "import logging\n",
    "logger = logging.getLogger(\"quiet_logger\")\n",
    "logger.setLevel(logging.ERROR)"
   ]
  },
  {
   "cell_type": "markdown",
   "metadata": {},
   "source": [
    "NeutrinoScanner can be initialised with optional arguments nu_name. By default, it loads the most recent IceCube GCN circular. If a name is specified, it searches for matching GCN circulars. You can also initialise it with manual_args=(name, ra, dec, nu_time), where ra/dec are each lists in the form of [best fit, +delta_p, -delta_m]. The nu_time must be an astropy.time object. An example is found at the bottom of the script."
   ]
  },
  {
   "cell_type": "code",
   "execution_count": null,
   "metadata": {
    "scrolled": false
   },
   "outputs": [
    {
     "name": "stdout",
     "output_type": "stream",
     "text": [
      "Latest GCN is  IceCube-191001A (GCN #25913)\n"
     ]
    },
    {
     "name": "stderr",
     "output_type": "stream",
     "text": [
      "  3%|▎         | 5929/196608 [00:00<00:03, 59283.41it/s]"
     ]
    },
    {
     "name": "stdout",
     "output_type": "stream",
     "text": [
      "Found GCN: https://gcn.gsfc.nasa.gov/gcn3/25913.gcn3\n",
      "Neutrino time: 2019-10-01T20:09:18.170\n",
      "Coordinates: RA = 314.08 (311.82 - 320.64)\n",
      "Coordinates: Dec = 12.94 (11.469999999999999 - 14.44)\n",
      "Finding search pixels:\n"
     ]
    },
    {
     "name": "stderr",
     "output_type": "stream",
     "text": [
      " 67%|██████▋   | 131113/196608 [00:02<00:01, 47301.50it/s]"
     ]
    }
   ],
   "source": [
    "nu = NeutrinoScanner(logger=logger)"
   ]
  },
  {
   "cell_type": "code",
   "execution_count": null,
   "metadata": {
    "scrolled": false
   },
   "outputs": [],
   "source": [
    "nu.scan_cones()"
   ]
  },
  {
   "cell_type": "code",
   "execution_count": null,
   "metadata": {},
   "outputs": [],
   "source": [
    "nu.plot_overlap_with_observations()"
   ]
  },
  {
   "cell_type": "code",
   "execution_count": null,
   "metadata": {},
   "outputs": [],
   "source": [
    "print(nu.draft_gcn())"
   ]
  },
  {
   "cell_type": "markdown",
   "metadata": {},
   "source": [
    "# Alternative Examples"
   ]
  },
  {
   "cell_type": "markdown",
   "metadata": {},
   "source": [
    "An example using an IC alert name is given below:"
   ]
  },
  {
   "cell_type": "code",
   "execution_count": null,
   "metadata": {},
   "outputs": [],
   "source": [
    "# nu = NeutrinoScanner(\"190503A\", logger=logger)\n",
    "# nu.scan_cones()"
   ]
  },
  {
   "cell_type": "markdown",
   "metadata": {},
   "source": [
    "An example using a manual specification of name/ra/dec/time is shown below:"
   ]
  },
  {
   "cell_type": "code",
   "execution_count": null,
   "metadata": {},
   "outputs": [],
   "source": [
    "# from neutrino_scanner import NeutrinoScanner\n",
    "# from astropy.time import Time\n",
    "# nu = NeutrinoScanner(manual_args=(\n",
    "#     \"IC191001A\", \n",
    "#     [314.355, +3.0, -3.0],\n",
    "#     [-12.576, +3.0, -3.0],\n",
    "#     Time(\"2019-10-01T20:09:18.174021\", format='isot', scale='utc')\n",
    "# ), logger=logger)\n",
    "# nu.scan_cones()\n",
    "# nu.plot_overlap_with_observations()"
   ]
  },
  {
   "cell_type": "code",
   "execution_count": null,
   "metadata": {},
   "outputs": [],
   "source": [
    "from ztfquery import fields as ztfquery_fields\n",
    "\n",
    "fs = [542, 543, 544]\n",
    "for f in fs:\n",
    "    ra, dec = ztfquery_fields.field_to_coords(f)[0]\n",
    "    print(f, ra, dec, ra-3.5, ra+3.5)"
   ]
  },
  {
   "cell_type": "code",
   "execution_count": null,
   "metadata": {},
   "outputs": [],
   "source": [
    "\n",
    "\n",
    "\n"
   ]
  }
 ],
 "metadata": {
  "kernelspec": {
   "display_name": "ZTF_ToO",
   "language": "python",
   "name": "ztf_too"
  },
  "language_info": {
   "codemirror_mode": {
    "name": "ipython",
    "version": 3
   },
   "file_extension": ".py",
   "mimetype": "text/x-python",
   "name": "python",
   "nbconvert_exporter": "python",
   "pygments_lexer": "ipython3",
   "version": "3.7.4"
  }
 },
 "nbformat": 4,
 "nbformat_minor": 2
}
