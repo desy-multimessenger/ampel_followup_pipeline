{
 "cells": [
  {
   "cell_type": "code",
   "execution_count": null,
   "metadata": {},
   "outputs": [],
   "source": [
    "from neutrino_scanner import NeutrinoScanner"
   ]
  },
  {
   "cell_type": "code",
   "execution_count": 2,
   "metadata": {},
   "outputs": [],
   "source": [
    "import logging\n",
    "logger = logging.getLogger(\"quiet_logger\")\n",
    "logger.setLevel(logging.ERROR)"
   ]
  },
  {
   "cell_type": "markdown",
   "metadata": {},
   "source": [
    "NeutrinoScanner can be initialised with optional arguments nu_name. By default, it loads the most recent IceCube GCN circular. If a name is specified, it searches for matching GCN circulars. You can also initialise it with manual_args=(name, ra, dec, nu_time), where ra/dec are each lists in the form of [best fit, +delta_p, -delta_m]. The nu_time must be an astropy.time object. An example is found at the bottom of the script."
   ]
  },
  {
   "cell_type": "code",
   "execution_count": 3,
   "metadata": {},
   "outputs": [
    {
     "name": "stdout",
     "output_type": "stream",
     "text": [
      "Latest GCN is  IceCube-190730A (GCN #25225)\n"
     ]
    },
    {
     "name": "stderr",
     "output_type": "stream",
     "text": [
      " 13%|█▎        | 6181/49152 [00:00<00:00, 61806.82it/s]"
     ]
    },
    {
     "name": "stdout",
     "output_type": "stream",
     "text": [
      "Found GCN: https://gcn.gsfc.nasa.gov/gcn3/25225.gcn3\n",
      "Neutrino time: 2019-07-30T20:50:41.310\n",
      "Finding search pixels:\n"
     ]
    },
    {
     "name": "stderr",
     "output_type": "stream",
     "text": [
      "100%|██████████| 49152/49152 [00:00<00:00, 61044.95it/s]\n"
     ]
    }
   ],
   "source": [
    "nu = NeutrinoScanner(logger=logger)"
   ]
  },
  {
   "cell_type": "code",
   "execution_count": 4,
   "metadata": {},
   "outputs": [
    {
     "name": "stderr",
     "output_type": "stream",
     "text": [
      "\r",
      "  0%|          | 0/21 [00:00<?, ?it/s]"
     ]
    },
    {
     "name": "stdout",
     "output_type": "stream",
     "text": [
      "Commencing Ampel queries!\n",
      "Scan radius is 0.9541480607387777\n",
      "So far, 0 pixels out of 21 have already been scanned.\n"
     ]
    },
    {
     "name": "stderr",
     "output_type": "stream",
     "text": [
      " 57%|█████▋    | 12/21 [00:15<00:06,  1.36it/s]//anaconda3/envs/ZTF_ToO/lib/python3.7/site-packages/astropy/table/column.py:981: RuntimeWarning: invalid value encountered in greater\n",
      "  return getattr(self.data, op)(other)\n",
      "100%|██████████| 21/21 [00:34<00:00,  1.21s/it]\n",
      "  0%|          | 0/85 [00:00<?, ?it/s]//anaconda3/envs/ZTF_ToO/lib/python3.7/site-packages/pandas/plotting/_matplotlib/converter.py:102: FutureWarning: Using an implicitly registered datetime converter for a matplotlib plotting method. The converter was registered by pandas on import. Future versions of pandas will require you to explicitly register matplotlib converters.\n",
      "\n",
      "To register the converters:\n",
      "\t>>> from pandas.plotting import register_matplotlib_converters\n",
      "\t>>> register_matplotlib_converters()\n",
      "  warnings.warn(msg, FutureWarning)\n"
     ]
    },
    {
     "name": "stdout",
     "output_type": "stream",
     "text": [
      "Scanned 21 pixels\n",
      "Found 85 candidates\n",
      "Saving to: /Users/robertstein/Code/ZTF_ToO_toolkit/Neutrino_candidates/IceCube-190730A.pdf\n"
     ]
    },
    {
     "name": "stderr",
     "output_type": "stream",
     "text": [
      "100%|██████████| 85/85 [00:14<00:00,  6.84it/s]\n"
     ]
    }
   ],
   "source": [
    "nu.scan_cones()"
   ]
  },
  {
   "cell_type": "markdown",
   "metadata": {},
   "source": [
    "# Alternative Examples"
   ]
  },
  {
   "cell_type": "markdown",
   "metadata": {},
   "source": [
    "An example using an IC alert name is given below:"
   ]
  },
  {
   "cell_type": "code",
   "execution_count": 5,
   "metadata": {},
   "outputs": [
    {
     "name": "stdout",
     "output_type": "stream",
     "text": [
      "Found match to 190503A:  IceCube-190503A\n",
      "Match is  IceCube-190503A (GCN #24378)\n"
     ]
    },
    {
     "name": "stderr",
     "output_type": "stream",
     "text": [
      " 14%|█▎        | 6749/49152 [00:00<00:00, 67489.26it/s]"
     ]
    },
    {
     "name": "stdout",
     "output_type": "stream",
     "text": [
      "Found GCN: https://gcn.gsfc.nasa.gov/gcn3/24378.gcn3\n",
      "Neutrino time: 2019-05-03T17:23:08.720\n",
      "Finding search pixels:\n"
     ]
    },
    {
     "name": "stderr",
     "output_type": "stream",
     "text": [
      "100%|██████████| 49152/49152 [00:00<00:00, 67073.14it/s]\n",
      "  7%|▋         | 1/15 [00:00<00:01,  9.63it/s]"
     ]
    },
    {
     "name": "stdout",
     "output_type": "stream",
     "text": [
      "Commencing Ampel queries!\n",
      "Scan radius is 0.9541480607387777\n",
      "So far, 0 pixels out of 15 have already been scanned.\n"
     ]
    },
    {
     "name": "stderr",
     "output_type": "stream",
     "text": [
      "100%|██████████| 15/15 [00:06<00:00,  2.60it/s]\n",
      "  5%|▍         | 1/21 [00:00<00:02,  6.82it/s]"
     ]
    },
    {
     "name": "stdout",
     "output_type": "stream",
     "text": [
      "Scanned 15 pixels\n",
      "Found 21 candidates\n",
      "Saving to: /Users/robertstein/Code/ZTF_ToO_toolkit/Neutrino_candidates/IceCube-190503A.pdf\n"
     ]
    },
    {
     "name": "stderr",
     "output_type": "stream",
     "text": [
      "100%|██████████| 21/21 [00:03<00:00,  5.82it/s]\n"
     ]
    }
   ],
   "source": [
    "nu = NeutrinoScanner(\"190503A\", logger=logger)\n",
    "nu.scan_cones()"
   ]
  },
  {
   "cell_type": "markdown",
   "metadata": {},
   "source": [
    "An example using a manual specification of name/ra/dec/time is shown below:"
   ]
  },
  {
   "cell_type": "code",
   "execution_count": 6,
   "metadata": {},
   "outputs": [
    {
     "name": "stderr",
     "output_type": "stream",
     "text": [
      " 26%|██▌       | 12594/49152 [00:00<00:00, 63903.33it/s]"
     ]
    },
    {
     "name": "stdout",
     "output_type": "stream",
     "text": [
      "Neutrino time: 2019-05-03T17:23:08.720\n",
      "Finding search pixels:\n"
     ]
    },
    {
     "name": "stderr",
     "output_type": "stream",
     "text": [
      "100%|██████████| 49152/49152 [00:00<00:00, 67067.19it/s]\n",
      "  7%|▋         | 1/15 [00:00<00:01,  8.76it/s]"
     ]
    },
    {
     "name": "stdout",
     "output_type": "stream",
     "text": [
      "Commencing Ampel queries!\n",
      "Scan radius is 0.9541480607387777\n",
      "So far, 0 pixels out of 15 have already been scanned.\n"
     ]
    },
    {
     "name": "stderr",
     "output_type": "stream",
     "text": [
      "100%|██████████| 15/15 [00:07<00:00,  2.44it/s]\n",
      "  5%|▍         | 1/21 [00:00<00:02,  6.71it/s]"
     ]
    },
    {
     "name": "stdout",
     "output_type": "stream",
     "text": [
      "Scanned 15 pixels\n",
      "Found 21 candidates\n",
      "Saving to: /Users/robertstein/Code/ZTF_ToO_toolkit/Neutrino_candidates/190503A.pdf\n"
     ]
    },
    {
     "name": "stderr",
     "output_type": "stream",
     "text": [
      "100%|██████████| 21/21 [00:03<00:00,  6.50it/s]\n"
     ]
    }
   ],
   "source": [
    "from astropy.time import Time\n",
    "nu = NeutrinoScanner(manual_args=(\n",
    "    \"190503A\", \n",
    "    [120.28, +0.57, -0.77],\n",
    "    [6.35, +0.76, -0.70],\n",
    "    Time(\"2019-05-03T17:23:08.72\", format='isot', scale='utc')\n",
    "), logger=logger)\n",
    "nu.scan_cones()"
   ]
  }
 ],
 "metadata": {
  "kernelspec": {
   "display_name": "ZTF_ToO",
   "language": "python",
   "name": "ztf_too"
  },
  "language_info": {
   "codemirror_mode": {
    "name": "ipython",
    "version": 3
   },
   "file_extension": ".py",
   "mimetype": "text/x-python",
   "name": "python",
   "nbconvert_exporter": "python",
   "pygments_lexer": "ipython3",
   "version": "3.7.4"
  }
 },
 "nbformat": 4,
 "nbformat_minor": 2
}
