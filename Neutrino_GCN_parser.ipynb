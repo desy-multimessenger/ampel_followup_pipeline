{
 "cells": [
  {
   "cell_type": "code",
   "execution_count": 1,
   "metadata": {},
   "outputs": [],
   "source": [
    "from neutrino_scanner import NeutrinoScanner"
   ]
  },
  {
   "cell_type": "code",
   "execution_count": 2,
   "metadata": {},
   "outputs": [],
   "source": [
    "import logging\n",
    "logger = logging.getLogger(\"quiet_logger\")\n",
    "logger.setLevel(logging.ERROR)"
   ]
  },
  {
   "cell_type": "markdown",
   "metadata": {},
   "source": [
    "NeutrinoScanner can be initialised with optional arguments nu_name. By default, it loads the most recent IceCube GCN circular. If a name is specified, it searches for matching GCN circulars. You can also initialise it with manual_args=(name, ra, dec, nu_time), where ra/dec are each lists in the form of [best fit, +delta_p, -delta_m]. The nu_time must be an astropy.time object. An example is found at the bottom of the script."
   ]
  },
  {
   "cell_type": "code",
   "execution_count": 4,
   "metadata": {
    "scrolled": false
   },
   "outputs": [
    {
     "name": "stdout",
     "output_type": "stream",
     "text": [
      "Checking for GCN on https://gcn.gsfc.nasa.gov/gcn3_archive.html\n",
      "No GCN found for IC190619A on GCN page, checking archive instead. The latest page is 142\n",
      "Checking for GCN on https://gcn.gsfc.nasa.gov/gcn3_arch_old142.html\n",
      "Found match to IC190619A:  IceCube-190619A\n",
      "Match is  IceCube-190619A (GCN #24854)\n"
     ]
    },
    {
     "name": "stderr",
     "output_type": "stream",
     "text": [
      "  3%|▎         | 5653/196608 [00:00<00:03, 56526.01it/s]"
     ]
    },
    {
     "name": "stdout",
     "output_type": "stream",
     "text": [
      "Found GCN: https://gcn.gsfc.nasa.gov/gcn3/24854.gcn3\n",
      "RA: 343.26 (+ 4.08 - 2.63 deg  90% PSF containment) J2000\n",
      "Neutrino time: 2019-06-19T13:14:18.040\n",
      "Coordinates: RA = 343.26 (340.63 - 347.34)\n",
      "Coordinates: Dec = 10.73 (8.120000000000001 - 12.24)\n",
      "Finding search pixels:\n"
     ]
    },
    {
     "name": "stderr",
     "output_type": "stream",
     "text": [
      "100%|██████████| 196608/196608 [00:02<00:00, 66411.66it/s]\n",
      " 43%|████▎     | 4679/10784 [00:00<00:00, 46786.36it/s]"
     ]
    },
    {
     "name": "stdout",
     "output_type": "stream",
     "text": [
      "Projected Area: 27.16183603654153\n"
     ]
    },
    {
     "name": "stderr",
     "output_type": "stream",
     "text": [
      "100%|██████████| 10784/10784 [00:00<00:00, 37091.44it/s]\n"
     ]
    }
   ],
   "source": [
    "nu = NeutrinoScanner(\"IC190619A\", logger=logger)"
   ]
  },
  {
   "cell_type": "code",
   "execution_count": 5,
   "metadata": {
    "scrolled": false
   },
   "outputs": [],
   "source": [
    "# nu.scan_cones()"
   ]
  },
  {
   "cell_type": "code",
   "execution_count": 6,
   "metadata": {},
   "outputs": [
    {
     "name": "stderr",
     "output_type": "stream",
     "text": [
      "\r",
      "  0%|          | 0/4 [00:00<?, ?it/s]"
     ]
    },
    {
     "name": "stdout",
     "output_type": "stream",
     "text": [
      "Using 4 Nightly Summaries between 20190619 and 20190622\n"
     ]
    },
    {
     "name": "stderr",
     "output_type": "stream",
     "text": [
      "100%|██████████| 4/4 [00:03<00:00,  1.32it/s]\n"
     ]
    },
    {
     "name": "stdout",
     "output_type": "stream",
     "text": [
      "Of these, 0 nights are missing because ZTF did not observe.\n"
     ]
    },
    {
     "name": "stderr",
     "output_type": "stream",
     "text": [
      "  0%|          | 2/1204 [00:00<01:29, 13.48it/s]"
     ]
    },
    {
     "name": "stdout",
     "output_type": "stream",
     "text": [
      "Unpacking observations\n"
     ]
    },
    {
     "name": "stderr",
     "output_type": "stream",
     "text": [
      "100%|██████████| 1204/1204 [01:51<00:00, 10.75it/s]\n",
      "100%|██████████| 7849/7849 [00:00<00:00, 580076.68it/s]\n"
     ]
    },
    {
     "name": "stdout",
     "output_type": "stream",
     "text": [
      "Observations started at 2458654.9188159723\n",
      "6580 pixels were covered, covering approximately 21.572469474568273 sq deg.\n",
      "6580 pixels were covered at least twice, covering approximately 21.572469474568273 sq deg.\n"
     ]
    },
    {
     "data": {
      "text/plain": [
       "(<Figure size 432x288 with 1 Axes>,\n",
       " 'In total, 83.83 % of the contour was observed at least once. \\n In total, 83.83 % of the contour was observed at least twice. \\nThis estimate accounts for chip gaps.')"
      ]
     },
     "execution_count": 6,
     "metadata": {},
     "output_type": "execute_result"
    },
    {
     "data": {
      "image/png": "[encoded data removed]",
      "text/plain": [
       "<Figure size 432x288 with 1 Axes>"
      ]
     },
     "metadata": {
      "needs_background": "light"
     },
     "output_type": "display_data"
    }
   ],
   "source": [
    "nu.plot_overlap_with_observations(first_det_window_days=3)"
   ]
  },
  {
   "cell_type": "code",
   "execution_count": null,
   "metadata": {},
   "outputs": [],
   "source": [
    "# print(nu.draft_gcn())"
   ]
  },
  {
   "cell_type": "code",
   "execution_count": null,
   "metadata": {},
   "outputs": [],
   "source": [
    "# nu.plot_overlap_with_observations()"
   ]
  },
  {
   "cell_type": "code",
   "execution_count": null,
   "metadata": {},
   "outputs": [],
   "source": [
    "nu.simple_plot_overlap_with_observations()"
   ]
  },
  {
   "cell_type": "markdown",
   "metadata": {},
   "source": [
    "# Alternative Examples"
   ]
  },
  {
   "cell_type": "markdown",
   "metadata": {},
   "source": [
    "An example using an IC alert name is given below:"
   ]
  },
  {
   "cell_type": "code",
   "execution_count": null,
   "metadata": {},
   "outputs": [],
   "source": [
    "# nu = NeutrinoScanner(\"190503A\", logger=logger)\n",
    "# nu.scan_cones()"
   ]
  },
  {
   "cell_type": "markdown",
   "metadata": {},
   "source": [
    "An example using a manual specification of name/ra/dec/time is shown below:"
   ]
  },
  {
   "cell_type": "code",
   "execution_count": null,
   "metadata": {},
   "outputs": [],
   "source": [
    "from neutrino_scanner import NeutrinoScanner\n",
    "from astropy.time import Time\n",
    "nu = NeutrinoScanner(manual_args=(\n",
    "    \"LAT-ANTARES\", \n",
    "    [142.5603, +0.9, -0.9],\n",
    "    [-18.0672, +0.9, -0.9],\n",
    "    Time(\"2020-01-08T09:30:14.48\", format='isot', scale='utc')\n",
    "), logger=logger)\n",
    "nu.scan_cones()\n",
    "nu.plot_overlap_with_observations()"
   ]
  },
  {
   "cell_type": "code",
   "execution_count": null,
   "metadata": {},
   "outputs": [],
   "source": [
    "from ztfquery import fields as ztfquery_fields\n",
    "\n",
    "fs = [542, 543, 544]\n",
    "for f in fs:\n",
    "    ra, dec = ztfquery_fields.field_to_coords(f)[0]\n",
    "    print(f, ra, dec, ra-3.5, ra+3.5)"
   ]
  },
  {
   "cell_type": "code",
   "execution_count": null,
   "metadata": {},
   "outputs": [],
   "source": [
    "\n",
    "\n",
    "\n"
   ]
  },
  {
   "cell_type": "code",
   "execution_count": null,
   "metadata": {},
   "outputs": [],
   "source": []
  },
  {
   "cell_type": "code",
   "execution_count": null,
   "metadata": {},
   "outputs": [],
   "source": []
  }
 ],
 "metadata": {
  "kernelspec": {
   "display_name": "ZTF_TOO",
   "language": "python",
   "name": "ztf_too"
  },
  "language_info": {
   "codemirror_mode": {
    "name": "ipython",
    "version": 3
   },
   "file_extension": ".py",
   "mimetype": "text/x-python",
   "name": "python",
   "nbconvert_exporter": "python",
   "pygments_lexer": "ipython3",
   "version": "3.7.4"
  }
 },
 "nbformat": 4,
 "nbformat_minor": 2
}
