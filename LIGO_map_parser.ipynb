{
 "cells": [
  {
   "cell_type": "code",
   "execution_count": 1,
   "metadata": {
    "scrolled": true
   },
   "outputs": [],
   "source": [
    "import healpy as hp\n",
    "from astropy.io import fits\n",
    "import matplotlib.pyplot as plt\n",
    "import numpy as np\n",
    "from tqdm import tqdm\n",
    "%matplotlib inline"
   ]
  },
  {
   "cell_type": "code",
   "execution_count": 23,
   "metadata": {},
   "outputs": [],
   "source": [
    "class GravWaveScanner:\n",
    "    \n",
    "    def __init__(self, gw_file, rad, prob_threshold=0.9, cone_nside=64):\n",
    "        self.gw_path = gw_file\n",
    "        self.cone_nside = cone_nside\n",
    "        self.parsed_file = self.read_map()\n",
    "        self.data = self.parsed_file[1].data\n",
    "        self.prob_map = hp.read_map(gw_file)\n",
    "        self.radius = rad\n",
    "        self.prob_threshold = prob_threshold\n",
    "        self.pixel_threshold = self.find_pixel_threshold(self.data[\"PROB\"])\n",
    "        self.scanned_pixels = []\n",
    "        self.map_coords = self.unpack_skymap()\n",
    "        self.cone_ids, self.cone_coords = self.find_cone_coords()\n",
    "        self.cache = []\n",
    "\n",
    "    def add_scan(self, ra, dec):\n",
    "        self.scanned_points += [(ra, dec)]\n",
    "        \n",
    "    def read_map(self, ):\n",
    "        print(\"Reading file: {0}\".format(self.gw_path))\n",
    "        f = fits.open(gw_file)\n",
    "        return f\n",
    "        \n",
    "        \n",
    "    def find_pixel_threshold(self, data):\n",
    "        print(\"\")\n",
    "        ranked_pixels = np.sort(data)[::-1]\n",
    "        int_sum = 0.0\n",
    "        pixel_threshold = 0.0\n",
    "\n",
    "        for i, prob in enumerate(ranked_pixels):\n",
    "            int_sum += prob\n",
    "            if int_sum > self.prob_threshold:\n",
    "                print(\"Threshold found! \\n To reach {0}% of probability, pixels with \"\n",
    "                      \"probability greater than {1} are included\".format(\n",
    "                          int_sum*100., prob))\n",
    "                pixel_threshold = prob\n",
    "                break\n",
    "                \n",
    "        return pixel_threshold\n",
    "    \n",
    "    def find_cone_ids(self):\n",
    "        pass\n",
    "    \n",
    "    @staticmethod\n",
    "    def extract_ra_dec(nside, index):\n",
    "        (colat, ra) = hp.pix2ang(nside, index, nest=True)\n",
    "        dec = np.pi/2. - colat\n",
    "        return (ra, dec)\n",
    "    \n",
    "    @staticmethod\n",
    "    def extract_npix(nside, ra, dec):\n",
    "        colat = np.pi/2. - dec\n",
    "        return hp.ang2pix(nside, colat, ra, nest=True)\n",
    "    \n",
    "    def unpack_skymap(self):\n",
    "#         all_coords = []\n",
    "#         prob_center = []\n",
    "\n",
    "#         # new_probs = hp.pixelfunc.ud_grade(gw.data[\"PROB\"], nside_out=cone_nside, power=-2)\n",
    "#         new_probs =d[\"PROB\"]\n",
    "#         print(new_probs, np.sum(new_probs))\n",
    "\n",
    "\n",
    "        ligo_nside = hp.npix2nside(len(self.data[\"PROB\"]))\n",
    "\n",
    "        threshold = self.find_pixel_threshold(self.data[\"PROB\"])\n",
    "\n",
    "        mask = self.data[\"PROB\"] > threshold\n",
    "        \n",
    "        map_coords = []\n",
    "\n",
    "\n",
    "        for i in tqdm(range(hp.nside2npix(ligo_nside))):\n",
    "            if mask[i]:\n",
    "                map_coords.append(self.extract_ra_dec(ligo_nside, i))\n",
    "\n",
    "        map_coords = np.array(map_coords, dtype=np.dtype([(\"ra\", np.float), \n",
    "                                                          (\"dec\", np.float)]))\n",
    "        \n",
    "        return map_coords\n",
    "\n",
    "        # all_coords = all_coords[mask]\n",
    "\n",
    "#         print(np.degrees(all_coords[\"ra\"]), np.degrees(all_coords[\"dec\"]))\n",
    "\n",
    "    def find_cone_coords(self):\n",
    "        cone_ids = []\n",
    "\n",
    "        for ra, dec in self.map_coords:\n",
    "        #     print(np.degrees(ra), np.degrees(dec))\n",
    "        #     print(hp.ang2pix(64, np.pi/2. - dec, ra, nest=True))\n",
    "            cone_ids.append(self.extract_npix(self.cone_nside, ra, dec))\n",
    "\n",
    "        cone_ids = list(set(cone_ids))        \n",
    "        \n",
    "        cone_coords = []\n",
    "\n",
    "        for i in tqdm(cone_ids):\n",
    "            cone_coords.append(self.extract_ra_dec(self.cone_nside, i))\n",
    "\n",
    "        cone_coords = np.array(\n",
    "            cone_coords, dtype=np.dtype([(\"ra\", np.float), (\"dec\", np.float)])\n",
    "        )\n",
    "        \n",
    "        return cone_ids, cone_coords\n",
    "    \n",
    "    @staticmethod\n",
    "    def wrap_around_180(ra):\n",
    "        ra[ra > np.pi] -= 2*np.pi\n",
    "        return ra\n",
    "        \n",
    "        \n",
    "        \n",
    "    def plot_skymap(self):\n",
    "        \n",
    "        plt.subplot(projection=\"aitoff\")\n",
    "\n",
    "        sc = plt.scatter(wrap_around_180(self.map_coords[\"ra\"]), self.map_coords[\"dec\"],\n",
    "                        c=new_probs[mask], vmin=0.,  vmax=max(new_probs), s=1e-4)\n",
    "        plt.title(\"LIGO SKYMAP\")\n",
    "        plt.show()\n",
    "        \n",
    "        plt.subplot(projection=\"aitoff\")\n",
    "\n",
    "        sc = plt.scatter(wrap_around_180(self.cone_coords[\"ra\"]), self.cone_coords[\"dec\"])\n",
    "        plt.title(\"CONE REGION\")\n",
    "        plt.show()\n",
    "        \n",
    "    def scan_cones(self):\n",
    "        \n",
    "        scan_radius = np.degrees(hp.max_pixrad(self.cone_nside))\n",
    "        print(\"Commencing Ampel queries!\")\n",
    "        print(\"Scan radius is\", scan_radius)\n",
    "        print(\"So far, {0} pixels out of {1} have already been scanned.\".format(\n",
    "            len(self.scanned_pixels), len(self.cone_ids)\n",
    "        ))\n",
    "        \n",
    "        for i, cone_id in enumerate(tqdm(list(self.cone_ids))):\n",
    "#             print(i)\n",
    "            ra, dec = self.cone_coords[i]\n",
    "            \n",
    "            if cone_id not in self.scanned_pixels:\n",
    "                try:\n",
    "                    self.cache += self.query_ampel(ra, dec, scan_radius)\n",
    "                    self.scanned_pixels.append(cone_id)\n",
    "                except:\n",
    "                    pass\n",
    "        \n",
    "        print(\"Scanned {0} pixels\".format(len(self.scanned_pixels)))\n",
    "            \n",
    "        \n",
    "    def query_ampel(self, ra, dec, rad):\n",
    "        return []\n",
    "        \n",
    "        \n",
    "        \n",
    "        \n",
    "        \n",
    "    "
   ]
  },
  {
   "cell_type": "code",
   "execution_count": 24,
   "metadata": {},
   "outputs": [
    {
     "name": "stdout",
     "output_type": "stream",
     "text": [
      "Reading file: /Users/avocado/Downloads/LALInference.offline\n",
      "NSIDE = 1024\n",
      "ORDERING = NESTED in fits file\n",
      "INDXSCHM = IMPLICIT\n",
      "Ordering converted to RING\n",
      "\n",
      "Threshold found! \n",
      " To reach 90.00009741504594% of probability, pixels with probability greater than 3.8098001157350675e-06 are included\n",
      "\n"
     ]
    },
    {
     "name": "stderr",
     "output_type": "stream",
     "text": [
      "\r",
      "  0%|          | 0/12582912 [00:00<?, ?it/s]"
     ]
    },
    {
     "name": "stdout",
     "output_type": "stream",
     "text": [
      "Threshold found! \n",
      " To reach 90.00009741504594% of probability, pixels with probability greater than 3.8098001157350675e-06 are included\n"
     ]
    },
    {
     "name": "stderr",
     "output_type": "stream",
     "text": [
      "100%|██████████| 12582912/12582912 [00:11<00:00, 1104074.42it/s]\n",
      "100%|██████████| 153/153 [00:00<00:00, 10702.97it/s]\n"
     ]
    }
   ],
   "source": [
    "gw = GravWaveScanner(\"/Users/avocado/Downloads/LALInference.offline\", None)"
   ]
  },
  {
   "cell_type": "code",
   "execution_count": 25,
   "metadata": {},
   "outputs": [
    {
     "name": "stderr",
     "output_type": "stream",
     "text": [
      "100%|██████████| 153/153 [00:00<00:00, 54503.87it/s]"
     ]
    },
    {
     "name": "stdout",
     "output_type": "stream",
     "text": [
      "Commencing Ampel queries!\n",
      "Scan radius is 0.9541480607387777\n",
      "So far, 0 pixels out of 153 have already been scanned.\n",
      "Scanned 153 pixels\n"
     ]
    },
    {
     "name": "stderr",
     "output_type": "stream",
     "text": [
      "\n"
     ]
    }
   ],
   "source": [
    "gw.scan_cones()"
   ]
  },
  {
   "cell_type": "code",
   "execution_count": null,
   "metadata": {},
   "outputs": [],
   "source": []
  },
  {
   "cell_type": "code",
   "execution_count": null,
   "metadata": {},
   "outputs": [],
   "source": []
  },
  {
   "cell_type": "code",
   "execution_count": null,
   "metadata": {},
   "outputs": [],
   "source": []
  },
  {
   "cell_type": "code",
   "execution_count": null,
   "metadata": {},
   "outputs": [],
   "source": []
  }
 ],
 "metadata": {
  "kernelspec": {
   "display_name": "ztf_too_env",
   "language": "python",
   "name": "ztf_too_env"
  },
  "language_info": {
   "codemirror_mode": {
    "name": "ipython",
    "version": 3
   },
   "file_extension": ".py",
   "mimetype": "text/x-python",
   "name": "python",
   "nbconvert_exporter": "python",
   "pygments_lexer": "ipython3",
   "version": "3.7.3"
  }
 },
 "nbformat": 4,
 "nbformat_minor": 2
}
