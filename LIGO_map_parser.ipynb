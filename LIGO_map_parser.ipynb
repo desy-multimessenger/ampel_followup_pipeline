{
 "cells": [
  {
   "cell_type": "code",
   "execution_count": 1,
   "metadata": {},
   "outputs": [],
   "source": [
    "import logging\n",
    "from gw_scanner import GravWaveScanner\n",
    "from gw_multi_process import MultiGwProcessor\n",
    "from astropy.time import Time\n",
    "import numpy as np"
   ]
  },
  {
   "cell_type": "code",
   "execution_count": 2,
   "metadata": {},
   "outputs": [
    {
     "name": "stdout",
     "output_type": "stream",
     "text": [
      "<Logger __main__ (DEBUG)>\n"
     ]
    }
   ],
   "source": [
    "logger = logging.getLogger(__name__)\n",
    "logger.setLevel(logging.DEBUG)\n",
    "print(logger)"
   ]
  },
  {
   "cell_type": "code",
   "execution_count": 3,
   "metadata": {},
   "outputs": [],
   "source": [
    "# Look for transients first detected within 72 hours of merger\n",
    "n_days = 3.0"
   ]
  },
  {
   "cell_type": "markdown",
   "metadata": {},
   "source": [
    "GravWaveScanner can be initialised with optional arguments *gw_name* and *rev*. By default, it loads the most recent LIGO public event, and the most recent revision. Alternatively, a fits file can be saved to the LIGO_skymaps directory, and its name specified with *gw_file*."
   ]
  },
  {
   "cell_type": "code",
   "execution_count": 4,
   "metadata": {
    "scrolled": false
   },
   "outputs": [
    {
     "name": "stdout",
     "output_type": "stream",
     "text": [
      "Running on 3 CPUs\n",
      "Found voevent S191213g-4-Update.xml\n",
      "Latest skymap URL: https://gracedb.ligo.org/api/superevents/S191213g/files/LALInference.fits.gz\n",
      "Saving to: /Users/robertstein/Code/ZTF_ToO_toolkit/LIGO_skymaps/S191213g_4_LALInference.fits.gz\n"
     ]
    },
    {
     "name": "stderr",
     "output_type": "stream",
     "text": [
      "INFO:root:MERGER TIME: 2019-12-13T04:34:08.139\n",
      "INFO:root:Reading map\n"
     ]
    },
    {
     "name": "stdout",
     "output_type": "stream",
     "text": [
      "Reading file: /Users/robertstein/Code/ZTF_ToO_toolkit/LIGO_skymaps/S191213g_4_LALInference.fits.gz\n",
      "Threshold found! \n",
      " To reach 90.00004832275556% of probability, pixels with probability greater than 4.959445251787793e-07 are included\n",
      "Threshold found! \n",
      " To reach 90.00004832275556% of probability, pixels with probability greater than 4.959445251787793e-07 are included\n"
     ]
    },
    {
     "name": "stderr",
     "output_type": "stream",
     "text": [
      "  4%|▎         | 111744/3145728 [00:00<00:02, 1117374.46it/s]"
     ]
    },
    {
     "name": "stdout",
     "output_type": "stream",
     "text": [
      "Checking which pixels are within the contour:\n"
     ]
    },
    {
     "name": "stderr",
     "output_type": "stream",
     "text": [
      "100%|██████████| 3145728/3145728 [00:04<00:00, 773074.26it/s] \n",
      "INFO:__main__:using mongo client at 127.0.0.1:27018\n"
     ]
    },
    {
     "name": "stdout",
     "output_type": "stream",
     "text": [
      "Total pixel area: 4478.470890846786 degrees\n"
     ]
    },
    {
     "name": "stderr",
     "output_type": "stream",
     "text": [
      "INFO:__main__:connected to collection srcs of database PS1_DR1.\n",
      "INFO:__main__:found 1919106885 documents in source collection srcs.\n",
      "INFO:__main__:set HEALPIX partition of order 14 with key 'hpxid_14'. Nested: True, Indexed: True, Resolution [\"]: 12.883\n",
      "INFO:__main__:no 2d sphere key found in catalog PS1_DR1\n",
      "INFO:__main__:source collection has the following indexes: _id, hpxid_14\n",
      "INFO:__main__:setting default search method to 'healpix'\n",
      "INFO:__main__:Using MIN_NDET=1\n",
      "INFO:__main__:Using MIN_TSPAN=-1.0\n",
      "INFO:__main__:Using MAX_TSPAN=365.0\n",
      "INFO:__main__:Using MIN_RB=0.3\n",
      "INFO:__main__:Using MAX_FWHM=5.5\n",
      "INFO:__main__:Using MAX_ELONG=1.4\n",
      "INFO:__main__:Using MAX_MAGDIFF=1.0\n",
      "INFO:__main__:Using MAX_NBAD=2\n",
      "INFO:__main__:Using MIN_DIST_TO_SSO=20.0\n",
      "INFO:__main__:Using MIN_GAL_LAT=0.0\n",
      "INFO:__main__:Using GAIA_RS=10.0\n",
      "INFO:__main__:Using GAIA_PM_SIGNIF=3.0\n",
      "INFO:__main__:Using GAIA_PLX_SIGNIF=3.0\n",
      "INFO:__main__:Using GAIA_VETO_GMAG_MIN=9.0\n",
      "INFO:__main__:Using GAIA_VETO_GMAG_MAX=20.0\n",
      "INFO:__main__:Using GAIA_EXCESSNOISE_SIG_MAX=999.0\n",
      "INFO:__main__:Using PS1_SGVETO_RAD=1.0\n",
      "INFO:__main__:Using PS1_SGVETO_SGTH=0.8\n",
      "INFO:__main__:Using PS1_CONFUSION_RAD=3.0\n",
      "INFO:__main__:Using PS1_CONFUSION_SG_TOL=0.1\n",
      "INFO:__main__:Using MIN_DRB=0.0\n",
      "100%|██████████| 5336/5336 [00:00<00:00, 95428.74it/s]"
     ]
    },
    {
     "name": "stdout",
     "output_type": "stream",
     "text": [
      "Scanning method: time \n",
      " N_sky: 34.68600814125966\n"
     ]
    },
    {
     "name": "stderr",
     "output_type": "stream",
     "text": [
      "\n"
     ]
    }
   ],
   "source": [
    "gw = MultiGwProcessor(gw_name=\"S191213g\", logger=logger, n_days=n_days, prob_threshold=0.9)"
   ]
  },
  {
   "cell_type": "code",
   "execution_count": 5,
   "metadata": {},
   "outputs": [],
   "source": [
    "# print(gw.get_multi_night_summary(3).data.to_csv())"
   ]
  },
  {
   "cell_type": "code",
   "execution_count": 6,
   "metadata": {
    "scrolled": false
   },
   "outputs": [],
   "source": [
    "# fig = gw.plot_skymap()"
   ]
  },
  {
   "cell_type": "code",
   "execution_count": 7,
   "metadata": {},
   "outputs": [],
   "source": [
    "# gw.fill_queue()\n",
    "# gw.terminate()\n",
    "# gw.combine_cache()\n",
    "# gw.clean_cache()"
   ]
  },
  {
   "cell_type": "code",
   "execution_count": 8,
   "metadata": {
    "scrolled": true
   },
   "outputs": [
    {
     "name": "stderr",
     "output_type": "stream",
     "text": [
      "\r",
      "  0%|          | 0/4 [00:00<?, ?it/s]"
     ]
    },
    {
     "name": "stdout",
     "output_type": "stream",
     "text": [
      "Using 4 Nightly Summaries between 20191213 and 20191216\n"
     ]
    },
    {
     "name": "stderr",
     "output_type": "stream",
     "text": [
      "100%|██████████| 4/4 [00:07<00:00,  1.89s/it]\n"
     ]
    },
    {
     "name": "stdout",
     "output_type": "stream",
     "text": [
      "Of these, 0 nights are missing because ZTF did not observe.\n"
     ]
    },
    {
     "name": "stderr",
     "output_type": "stream",
     "text": [
      "  0%|          | 1/1520 [00:00<02:35,  9.75it/s]"
     ]
    },
    {
     "name": "stdout",
     "output_type": "stream",
     "text": [
      "Unpacking observations\n"
     ]
    },
    {
     "name": "stderr",
     "output_type": "stream",
     "text": [
      "100%|██████████| 1520/1520 [01:13<00:00, 20.59it/s]\n",
      "100%|██████████| 341504/341504 [00:00<00:00, 860884.05it/s]\n"
     ]
    },
    {
     "name": "stdout",
     "output_type": "stream",
     "text": [
      "Observations started at 2458830.690454861\n",
      "103878 pixels were covered, covering approximately 1362.2522699569622 sq deg.\n",
      "85346 pixels were covered at least twice, covering approximately 1119.2243038155038 sq deg.\n",
      "In total, 27.50 % of the contour was observed at least once. \n",
      " In total, 25.10 % of the contour was observed at least twice. \n",
      "This estimate accounts for chip gaps.\n"
     ]
    },
    {
     "data": {
      "image/png": "[encoded data removed]",
      "text/plain": [
       "<Figure size 432x288 with 1 Axes>"
      ]
     },
     "metadata": {
      "needs_background": "light"
     },
     "output_type": "display_data"
    }
   ],
   "source": [
    "fig, message = gw.plot_overlap_with_observations(first_det_window_days=n_days)\n",
    "print(message)"
   ]
  },
  {
   "cell_type": "code",
   "execution_count": 9,
   "metadata": {
    "scrolled": false
   },
   "outputs": [
    {
     "name": "stdout",
     "output_type": "stream",
     "text": [
      "['1738', '1779', '1815', '1842', '1843', '1844', '1866', '1867', '256', '257', '258', '304', '305', '306', '307', '308', '309', '355', '356', '357', '358', '359', '360', '374', '407', '408', '409', '410', '411', '425', '426', '458', '459', '460', '476', '477', '478', '527', '528', '552', '553', '554', '603', '604', '631', '651', '652', '653', '678', '697', '698', '699', '700', '739', '740', '741', '742', '776', '777', '778', '809', '810', '811', '812', '837', '838']\n"
     ]
    }
   ],
   "source": [
    "print(gw.overlap_fields)"
   ]
  },
  {
   "cell_type": "code",
   "execution_count": 10,
   "metadata": {},
   "outputs": [
    {
     "name": "stdout",
     "output_type": "stream",
     "text": [
      "field pid UT_START lim_mag exp\n",
      "1867 3 2019-12-13T04:34:15.3 20.5 30\n",
      "1844 2 2019-12-13T04:34:55.5 20.5 30\n",
      "1844 3 2019-12-13T04:35:34.6 20.5 30\n",
      "837 1 2019-12-13T04:36:13.9 20.5 30\n",
      "1866 2 2019-12-13T04:36:52.8 20.5 30\n",
      "810 1 2019-12-13T04:37:34.9 20.5 30\n",
      "1842 2 2019-12-13T04:38:14.1 20.5 30\n",
      "1842 3 2019-12-13T04:38:53.1 20.5 30\n",
      "809 1 2019-12-13T04:39:32.5 20.5 30\n",
      "603 1 2019-12-13T04:52:15.6 20.5 30\n",
      "552 1 2019-12-13T04:52:55.5 20.5 30\n",
      "553 1 2019-12-13T04:53:34.7 20.5 30\n",
      "604 1 2019-12-13T04:54:14.8 20.5 30\n",
      "554 1 2019-12-13T04:55:36.0 20.5 30\n",
      "410 1 2019-12-13T05:25:01.9 20.5 30\n",
      "409 1 2019-12-13T05:25:41.2 20.5 30\n",
      "458 1 2019-12-13T05:26:22.4 20.5 30\n",
      "408 1 2019-12-13T05:27:01.6 20.5 30\n",
      "357 1 2019-12-13T05:27:40.7 20.5 30\n",
      "306 1 2019-12-13T05:28:19.9 20.5 30\n",
      "356 1 2019-12-13T05:28:59.0 20.5 30\n",
      "305 1 2019-12-13T05:29:38.2 20.5 30\n",
      "355 1 2019-12-13T05:30:17.2 20.5 30\n",
      "553 1 2019-12-13T05:34:01.6 20.5 30\n",
      "604 1 2019-12-13T05:35:24.4 20.5 30\n",
      "603 1 2019-12-13T05:36:04.0 20.5 30\n",
      "653 1 2019-12-13T05:36:47.8 20.5 30\n",
      "652 1 2019-12-13T05:37:27.5 20.5 30\n",
      "651 1 2019-12-13T05:38:07.2 20.5 30\n",
      "697 1 2019-12-13T05:40:48.8 20.5 30\n",
      "739 1 2019-12-13T05:52:53.7 20.5 30\n",
      "699 1 2019-12-13T05:53:36.3 20.5 30\n",
      "740 1 2019-12-13T05:54:15.5 20.5 30\n",
      "741 3 2019-12-13T05:55:41.9 20.5 30\n",
      "700 1 2019-12-13T05:56:21.0 20.5 30\n",
      "741 1 2019-12-13T05:56:59.9 20.5 30\n",
      "742 1 2019-12-13T06:12:30.6 20.5 30\n",
      "742 3 2019-12-13T06:13:51.0 20.5 30\n",
      "778 1 2019-12-13T06:14:30.2 20.5 30\n",
      "810 3 2019-12-13T06:15:09.2 20.5 30\n",
      "778 3 2019-12-13T06:15:48.4 20.5 30\n",
      "810 1 2019-12-13T06:16:27.3 20.5 30\n",
      "777 3 2019-12-13T06:19:47.7 20.5 30\n",
      "809 1 2019-12-13T06:20:26.5 20.5 30\n",
      "777 1 2019-12-13T06:21:05.7 20.5 30\n",
      "809 3 2019-12-13T06:21:44.6 20.5 30\n",
      "776 1 2019-12-13T06:25:44.5 20.5 30\n",
      "304 1 2019-12-13T06:32:01.3 20.5 30\n",
      "355 1 2019-12-13T06:34:04.0 20.5 30\n",
      "811 1 2019-12-13T06:36:40.3 20.5 30\n",
      "811 3 2019-12-13T06:38:03.6 20.5 30\n",
      "811 1 2019-12-13T06:40:06.8 20.5 30\n",
      "837 1 2019-12-13T06:40:45.9 20.5 30\n",
      "778 1 2019-12-13T06:41:30.0 20.5 30\n",
      "777 1 2019-12-13T06:42:11.2 20.5 30\n",
      "741 1 2019-12-13T06:42:50.1 20.5 30\n",
      "740 1 2019-12-13T06:43:31.1 20.5 30\n",
      "699 1 2019-12-13T06:44:10.0 20.5 30\n",
      "698 1 2019-12-13T06:44:50.2 20.5 30\n",
      "697 1 2019-12-13T06:45:30.3 20.5 30\n",
      "651 1 2019-12-13T06:48:12.3 20.5 30\n",
      "603 1 2019-12-13T06:48:51.2 20.5 30\n",
      "739 1 2019-12-13T06:53:31.3 20.5 30\n",
      "776 1 2019-12-13T06:54:10.5 20.5 30\n",
      "837 1 2019-12-13T07:03:46.6 20.5 30\n",
      "812 3 2019-12-13T07:04:27.1 20.5 30\n",
      "837 3 2019-12-13T07:05:10.8 20.5 30\n",
      "812 1 2019-12-13T07:05:51.4 20.5 30\n",
      "838 1 2019-12-13T07:10:42.2 20.5 30\n",
      "1867 2 2019-12-13T07:11:21.2 20.5 30\n",
      "1867 3 2019-12-13T07:12:00.1 20.5 30\n",
      "812 1 2019-12-13T07:12:40.3 20.5 30\n",
      "810 1 2019-12-13T07:22:11.9 20.5 30\n",
      "809 1 2019-12-13T07:25:31.8 20.5 30\n",
      "742 1 2019-12-13T07:28:56.1 20.5 30\n",
      "700 1 2019-12-13T07:29:38.1 20.5 30\n",
      "306 1 2019-12-13T07:31:29.7 20.5 30\n",
      "305 1 2019-12-13T07:32:09.0 20.5 30\n",
      "356 1 2019-12-13T07:32:48.1 20.5 30\n",
      "458 1 2019-12-13T07:34:09.0 20.5 30\n",
      "408 1 2019-12-13T07:34:48.2 20.5 30\n",
      "357 1 2019-12-13T07:35:27.1 20.5 30\n",
      "409 1 2019-12-13T07:36:06.1 20.5 30\n",
      "838 3 2019-12-13T07:40:02.6 20.5 30\n",
      "410 1 2019-12-13T09:58:08.8 20.5 30\n",
      "425 1 2019-12-13T13:35:28.5 20.5 30\n",
      "476 1 2019-12-13T13:36:07.4 20.5 30\n",
      "527 1 2019-12-13T13:36:46.9 20.5 30\n",
      "528 1 2019-12-13T13:37:26.1 20.5 30\n",
      "477 1 2019-12-13T13:38:05.3 20.5 30\n",
      "698 1 2019-12-14T01:45:36.9 20.5 30\n",
      "739 1 2019-12-14T01:46:16.0 20.5 30\n",
      "697 1 2019-12-14T02:21:29.7 20.5 30\n",
      "653 1 2019-12-14T02:22:10.9 20.5 30\n",
      "652 1 2019-12-14T02:22:50.6 20.5 30\n",
      "604 1 2019-12-14T02:24:09.4 20.5 30\n",
      "554 1 2019-12-14T02:25:27.8 20.5 30\n",
      "552 1 2019-12-14T02:28:08.4 20.5 30\n",
      "554 1 2019-12-14T02:54:37.4 20.5 30\n",
      "552 1 2019-12-14T02:57:22.6 20.5 30\n",
      "809 1 2019-12-14T03:23:29.5 20.5 30\n",
      "739 1 2019-12-14T03:24:12.4 20.5 30\n",
      "809 3 2019-12-14T03:24:55.3 20.5 30\n",
      "740 1 2019-12-14T03:25:36.9 20.5 30\n",
      "697 1 2019-12-14T03:26:19.4 20.5 30\n",
      "698 1 2019-12-14T03:26:59.6 20.5 30\n",
      "652 1 2019-12-14T03:27:38.7 20.5 30\n",
      "604 1 2019-12-14T03:28:20.4 20.5 30\n",
      "777 2 2019-12-14T03:41:18.9 20.5 180\n",
      "740 2 2019-12-14T03:44:28.5 20.5 180\n",
      "698 2 2019-12-14T03:47:37.6 20.5 180\n",
      "739 2 2019-12-14T03:50:49.5 20.5 180\n",
      "741 2 2019-12-14T03:54:04.6 20.5 180\n",
      "699 2 2019-12-14T03:57:13.8 20.5 180\n",
      "652 2 2019-12-14T04:00:26.6 20.5 180\n",
      "604 2 2019-12-14T04:03:45.0 20.5 180\n",
      "603 2 2019-12-14T04:06:59.5 20.5 180\n",
      "553 2 2019-12-14T04:10:08.4 20.5 180\n",
      "776 2 2019-12-14T04:14:09.5 20.5 180\n",
      "742 2 2019-12-14T04:17:26.1 20.5 180\n",
      "458 2 2019-12-14T04:20:51.4 20.5 180\n",
      "407 2 2019-12-14T04:24:00.6 20.5 180\n",
      "459 2 2019-12-14T04:27:11.7 20.5 180\n",
      "408 2 2019-12-14T04:30:20.7 20.5 180\n",
      "356 2 2019-12-14T04:33:29.6 20.5 180\n",
      "460 2 2019-12-14T04:36:42.6 20.5 180\n",
      "778 3 2019-12-14T04:40:10.2 20.5 30\n",
      "741 1 2019-12-14T04:40:49.9 20.5 30\n",
      "699 1 2019-12-14T04:41:28.8 20.5 30\n",
      "698 1 2019-12-14T04:42:09.0 20.5 30\n",
      "740 1 2019-12-14T04:42:48.1 20.5 30\n",
      "776 1 2019-12-14T04:43:27.0 20.5 30\n",
      "739 1 2019-12-14T04:44:06.0 20.5 30\n",
      "697 1 2019-12-14T04:46:44.2 20.5 30\n",
      "809 1 2019-12-14T04:55:17.2 20.5 30\n",
      "777 1 2019-12-14T04:55:56.4 20.5 30\n",
      "653 1 2019-12-14T04:56:40.5 20.5 30\n",
      "651 1 2019-12-14T04:57:23.9 20.5 30\n",
      "652 1 2019-12-14T04:58:03.4 20.5 30\n",
      "603 1 2019-12-14T04:58:43.7 20.5 30\n",
      "604 1 2019-12-14T04:59:22.9 20.5 30\n",
      "553 1 2019-12-14T05:00:03.1 20.5 30\n",
      "811 3 2019-12-14T05:13:10.8 20.5 30\n",
      "742 3 2019-12-14T05:13:52.3 20.5 30\n",
      "812 3 2019-12-14T05:32:00.2 20.5 30\n",
      "700 1 2019-12-14T05:34:03.7 20.5 30\n",
      "742 1 2019-12-14T05:34:43.6 20.5 30\n",
      "778 1 2019-12-14T05:35:22.5 20.5 30\n",
      "810 1 2019-12-14T05:36:01.5 20.5 30\n",
      "1842 2 2019-12-14T05:36:40.4 20.5 30\n",
      "1842 3 2019-12-14T05:37:19.4 20.5 30\n",
      "1843 2 2019-12-14T05:38:38.6 20.5 30\n",
      "1843 3 2019-12-14T05:39:17.5 20.5 30\n",
      "811 1 2019-12-14T05:39:56.4 20.5 30\n",
      "1815 2 2019-12-14T05:41:15.3 20.5 30\n",
      "1815 3 2019-12-14T05:41:54.2 20.5 30\n",
      "411 2 2019-12-14T06:02:44.6 20.5 180\n",
      "410 2 2019-12-14T06:05:53.9 20.5 180\n",
      "357 2 2019-12-14T06:09:05.0 20.5 180\n",
      "408 2 2019-12-14T06:12:13.9 20.5 180\n",
      "356 2 2019-12-14T06:15:23.0 20.5 180\n",
      "306 2 2019-12-14T06:18:32.3 20.5 180\n",
      "359 2 2019-12-14T06:21:46.5 20.5 180\n",
      "358 2 2019-12-14T06:24:55.7 20.5 180\n",
      "307 2 2019-12-14T06:28:04.9 20.5 180\n",
      "409 2 2019-12-14T06:31:16.5 20.5 180\n",
      "460 2 2019-12-14T06:34:25.5 20.5 180\n",
      "459 2 2019-12-14T06:37:34.8 20.5 180\n",
      "458 2 2019-12-14T06:40:44.0 20.5 180\n",
      "407 2 2019-12-14T06:43:53.0 20.5 180\n",
      "305 2 2019-12-14T06:47:04.6 20.5 180\n",
      "256 2 2019-12-14T06:50:13.7 20.5 180\n",
      "308 2 2019-12-14T06:53:28.2 20.5 180\n",
      "360 2 2019-12-14T06:56:39.2 20.5 180\n",
      "777 2 2019-12-14T07:00:35.6 20.5 180\n",
      "740 2 2019-12-14T07:03:45.2 20.5 180\n",
      "698 2 2019-12-14T07:06:54.3 20.5 180\n",
      "739 2 2019-12-14T07:10:03.4 20.5 180\n",
      "741 2 2019-12-14T07:13:18.6 20.5 180\n",
      "699 2 2019-12-14T07:16:28.8 20.5 180\n",
      "652 2 2019-12-14T07:19:41.7 20.5 180\n",
      "604 2 2019-12-14T07:22:50.7 20.5 180\n",
      "603 2 2019-12-14T07:26:00.2 20.5 180\n",
      "553 2 2019-12-14T07:29:09.1 20.5 180\n",
      "651 2 2019-12-14T07:32:20.7 20.5 180\n",
      "697 2 2019-12-14T07:35:29.6 20.5 180\n",
      "1738 2 2019-12-14T07:38:38.5 20.5 180\n",
      "776 2 2019-12-14T07:41:49.1 20.5 180\n",
      "1779 2 2019-12-14T07:45:01.5 20.5 180\n",
      "742 2 2019-12-14T07:48:12.6 20.5 180\n",
      "778 2 2019-12-14T07:51:21.5 20.5 180\n",
      "810 2 2019-12-14T07:54:30.6 20.5 180\n",
      "837 2 2019-12-14T07:57:44.8 20.5 180\n",
      "812 2 2019-12-14T08:00:55.3 20.5 180\n",
      "411 2 2019-12-14T08:06:02.7 20.5 180\n",
      "410 2 2019-12-14T08:09:12.0 20.5 180\n",
      "359 2 2019-12-14T08:12:21.0 20.5 180\n",
      "357 2 2019-12-14T08:15:33.7 20.5 180\n",
      "408 2 2019-12-14T08:18:42.8 20.5 180\n",
      "356 2 2019-12-14T08:21:51.7 20.5 180\n",
      "306 2 2019-12-14T08:25:00.7 20.5 180\n",
      "358 2 2019-12-14T08:28:11.7 20.5 180\n",
      "307 2 2019-12-14T08:31:20.7 20.5 180\n",
      "257 2 2019-12-14T08:34:29.6 20.5 180\n",
      "305 2 2019-12-14T08:37:40.6 20.5 180\n",
      "256 2 2019-12-14T08:40:49.6 20.5 180\n",
      "409 2 2019-12-14T08:44:03.7 20.5 180\n",
      "460 2 2019-12-14T08:47:12.6 20.5 180\n",
      "459 2 2019-12-14T08:50:21.9 20.5 180\n",
      "458 2 2019-12-14T08:53:31.2 20.5 180\n",
      "407 2 2019-12-14T08:56:40.3 20.5 180\n",
      "777 2 2019-12-14T09:00:19.5 20.5 180\n",
      "740 2 2019-12-14T09:03:28.8 20.5 180\n",
      "698 2 2019-12-14T09:06:37.7 20.5 180\n",
      "739 2 2019-12-14T09:09:46.6 20.5 180\n",
      "741 2 2019-12-14T09:13:01.8 20.5 180\n",
      "699 2 2019-12-14T09:16:10.9 20.5 180\n",
      "652 2 2019-12-14T09:19:23.8 20.5 180\n",
      "697 2 2019-12-14T09:22:32.9 20.5 180\n",
      "1738 2 2019-12-14T09:25:41.8 20.5 180\n",
      "776 2 2019-12-14T09:28:52.0 20.5 180\n",
      "1779 2 2019-12-14T09:32:04.3 20.5 180\n",
      "742 2 2019-12-14T09:35:15.8 20.5 180\n",
      "778 2 2019-12-14T09:38:24.7 20.5 180\n",
      "810 2 2019-12-14T09:41:33.9 20.5 180\n",
      "837 2 2019-12-14T09:44:48.0 20.5 180\n",
      "812 2 2019-12-14T09:47:58.5 20.5 180\n",
      "360 2 2019-12-14T09:51:54.7 20.5 180\n",
      "308 2 2019-12-14T09:55:05.6 20.5 180\n",
      "258 2 2019-12-14T09:58:14.6 20.5 180\n",
      "309 2 2019-12-14T10:01:25.7 20.5 180\n",
      "812 1 2019-12-14T10:09:18.2 20.5 30\n",
      "838 1 2019-12-14T10:09:57.9 20.5 30\n",
      "374 1 2019-12-14T13:34:36.1 20.5 30\n",
      "426 1 2019-12-14T13:35:15.0 20.5 30\n",
      "478 1 2019-12-14T13:35:53.9 20.5 30\n",
      "631 1 2019-12-14T13:37:16.0 20.5 30\n",
      "678 1 2019-12-14T13:37:55.0 20.5 30\n",
      "776 1 2019-12-16T02:23:39.5 20.5 30\n",
      "739 1 2019-12-16T02:24:18.9 20.5 30\n",
      "698 1 2019-12-16T02:24:58.3 20.5 30\n",
      "697 1 2019-12-16T02:25:38.3 20.5 30\n",
      "651 1 2019-12-16T02:28:19.8 20.5 30\n",
      "652 1 2019-12-16T02:28:59.5 20.5 30\n",
      "604 1 2019-12-16T02:30:18.2 20.5 30\n",
      "603 1 2019-12-16T03:29:40.7 20.5 30\n",
      "777 3 2019-12-16T03:33:02.1 20.5 30\n",
      "777 3 2019-12-16T03:33:41.5 20.5 30\n",
      "777 3 2019-12-16T03:34:20.4 20.5 30\n",
      "777 3 2019-12-16T03:34:59.4 20.5 30\n",
      "777 3 2019-12-16T03:35:38.4 20.5 30\n",
      "777 3 2019-12-16T03:36:17.5 20.5 30\n",
      "777 3 2019-12-16T03:36:56.6 20.5 30\n",
      "777 3 2019-12-16T03:37:35.7 20.5 30\n",
      "777 3 2019-12-16T03:38:14.6 20.5 30\n",
      "777 3 2019-12-16T03:38:53.7 20.5 30\n",
      "777 3 2019-12-16T03:39:32.7 20.5 30\n",
      "777 3 2019-12-16T03:40:11.7 20.5 30\n",
      "777 3 2019-12-16T03:40:50.6 20.5 30\n",
      "777 3 2019-12-16T03:41:29.7 20.5 30\n",
      "777 3 2019-12-16T03:42:08.9 20.5 30\n",
      "777 3 2019-12-16T03:42:48.1 20.5 30\n",
      "777 3 2019-12-16T03:43:27.4 20.5 30\n",
      "777 3 2019-12-16T03:44:06.5 20.5 30\n",
      "777 3 2019-12-16T03:44:45.9 20.5 30\n",
      "777 3 2019-12-16T03:45:25.0 20.5 30\n",
      "777 3 2019-12-16T03:46:04.1 20.5 30\n",
      "777 3 2019-12-16T03:46:43.3 20.5 30\n",
      "777 3 2019-12-16T03:47:22.4 20.5 30\n",
      "777 3 2019-12-16T03:48:01.4 20.5 30\n",
      "777 3 2019-12-16T03:48:40.3 20.5 30\n",
      "777 3 2019-12-16T03:49:19.2 20.5 30\n",
      "777 3 2019-12-16T03:49:58.3 20.5 30\n",
      "777 3 2019-12-16T03:50:37.2 20.5 30\n",
      "777 3 2019-12-16T03:51:16.3 20.5 30\n",
      "777 3 2019-12-16T03:51:55.3 20.5 30\n",
      "777 3 2019-12-16T03:52:34.4 20.5 30\n",
      "777 3 2019-12-16T03:53:13.5 20.5 30\n",
      "777 3 2019-12-16T03:53:52.7 20.5 30\n",
      "777 3 2019-12-16T03:54:31.6 20.5 30\n",
      "777 3 2019-12-16T03:55:10.8 20.5 30\n",
      "777 3 2019-12-16T03:55:49.7 20.5 30\n",
      "777 3 2019-12-16T03:56:28.7 20.5 30\n",
      "777 3 2019-12-16T03:57:07.7 20.5 30\n",
      "777 3 2019-12-16T03:57:46.6 20.5 30\n",
      "777 3 2019-12-16T03:58:25.8 20.5 30\n",
      "777 3 2019-12-16T03:59:04.9 20.5 30\n",
      "777 3 2019-12-16T03:59:44.1 20.5 30\n",
      "777 3 2019-12-16T04:00:23.0 20.5 30\n",
      "777 3 2019-12-16T04:01:01.9 20.5 30\n",
      "777 3 2019-12-16T04:01:40.8 20.5 30\n",
      "777 3 2019-12-16T04:02:19.8 20.5 30\n",
      "777 3 2019-12-16T04:02:58.7 20.5 30\n",
      "777 3 2019-12-16T04:03:37.6 20.5 30\n",
      "777 3 2019-12-16T04:04:16.5 20.5 30\n",
      "777 3 2019-12-16T04:04:55.6 20.5 30\n",
      "777 3 2019-12-16T04:05:34.5 20.5 30\n",
      "604 1 2019-12-16T04:14:04.7 20.5 30\n",
      "653 1 2019-12-16T04:24:05.0 20.5 30\n",
      "652 1 2019-12-16T04:24:56.8 20.5 30\n",
      "699 1 2019-12-16T04:26:12.5 20.5 30\n",
      "700 1 2019-12-16T04:26:52.6 20.5 30\n",
      "838 1 2019-12-16T04:29:01.9 20.5 30\n",
      "838 3 2019-12-16T04:30:24.4 20.5 30\n",
      "742 1 2019-12-16T04:44:21.0 20.5 30\n",
      "778 1 2019-12-16T04:44:59.9 20.5 30\n",
      "811 1 2019-12-16T04:47:03.1 20.5 30\n",
      "812 3 2019-12-16T04:48:22.5 20.5 30\n",
      "812 1 2019-12-16T04:49:40.7 20.5 30\n",
      "458 1 2019-12-16T04:56:51.4 20.5 30\n",
      "407 1 2019-12-16T04:58:09.8 20.5 30\n",
      "355 1 2019-12-16T04:59:28.0 20.5 30\n",
      "653 1 2019-12-16T05:06:16.7 20.5 30\n",
      "740 1 2019-12-16T05:07:15.6 20.5 30\n",
      "699 1 2019-12-16T05:07:54.6 20.5 30\n",
      "777 1 2019-12-16T05:08:36.2 20.5 30\n",
      "809 1 2019-12-16T05:09:15.4 20.5 30\n",
      "810 1 2019-12-16T05:10:37.0 20.5 30\n",
      "778 1 2019-12-16T05:11:16.1 20.5 30\n",
      "741 1 2019-12-16T05:11:55.8 20.5 30\n",
      "700 1 2019-12-16T05:12:34.9 20.5 30\n",
      "742 1 2019-12-16T05:13:14.8 20.5 30\n",
      "811 1 2019-12-16T05:37:02.9 20.5 30\n",
      "812 1 2019-12-16T05:39:14.9 20.5 30\n",
      "812 3 2019-12-16T05:40:43.1 20.5 30\n",
      "837 1 2019-12-16T06:03:50.1 20.5 30\n",
      "742 1 2019-12-16T06:07:13.6 20.5 30\n",
      "778 1 2019-12-16T06:07:52.8 20.5 30\n",
      "810 1 2019-12-16T06:08:31.8 20.5 30\n",
      "811 1 2019-12-16T06:09:52.6 20.5 30\n",
      "355 1 2019-12-16T06:31:17.7 20.5 30\n",
      "407 1 2019-12-16T06:33:54.0 20.5 30\n",
      "458 1 2019-12-16T06:35:11.9 20.5 30\n",
      "812 1 2019-12-16T06:41:44.0 20.5 30\n",
      "837 1 2019-12-16T06:42:24.6 20.5 30\n",
      "777 1 2019-12-16T06:43:12.9 20.5 30\n",
      "741 1 2019-12-16T06:43:52.1 20.5 30\n",
      "740 1 2019-12-16T06:44:33.0 20.5 30\n",
      "699 1 2019-12-16T06:45:12.2 20.5 30\n",
      "700 1 2019-12-16T06:45:52.1 20.5 30\n",
      "698 1 2019-12-16T06:46:36.6 20.5 30\n",
      "653 1 2019-12-16T06:48:40.5 20.5 30\n",
      "652 1 2019-12-16T06:49:20.3 20.5 30\n",
      "697 1 2019-12-16T06:49:59.2 20.5 30\n",
      "739 1 2019-12-16T06:50:38.2 20.5 30\n",
      "776 1 2019-12-16T06:51:58.1 20.5 30\n",
      "809 1 2019-12-16T06:53:19.5 20.5 30\n",
      "604 1 2019-12-16T06:59:28.8 20.5 30\n",
      "407 1 2019-12-16T07:01:14.9 20.5 30\n",
      "458 1 2019-12-16T07:01:54.1 20.5 30\n",
      "838 1 2019-12-16T07:09:18.2 20.5 30\n",
      "838 3 2019-12-16T07:10:36.3 20.5 30\n",
      "838 1 2019-12-16T07:19:14.9 20.5 30\n",
      "459 1 2019-12-16T07:39:11.1 20.5 30\n",
      "408 1 2019-12-16T07:39:50.0 20.5 30\n",
      "355 1 2019-12-16T07:44:23.8 20.5 30\n",
      "356 1 2019-12-16T07:50:16.2 20.5 30\n",
      "460 1 2019-12-16T07:55:37.3 20.5 30\n",
      "409 1 2019-12-16T07:56:55.4 20.5 30\n",
      "357 1 2019-12-16T07:59:31.7 20.5 30\n",
      "410 1 2019-12-16T08:25:48.2 20.5 30\n",
      "411 1 2019-12-16T08:44:55.5 20.5 30\n",
      "359 1 2019-12-16T08:46:52.4 20.5 30\n",
      "358 1 2019-12-16T08:48:11.8 20.5 30\n",
      "307 1 2019-12-16T08:50:09.2 20.5 30\n",
      "306 1 2019-12-16T08:50:48.5 20.5 30\n",
      "360 1 2019-12-16T08:56:09.3 20.5 30\n",
      "308 1 2019-12-16T09:25:52.0 20.5 30\n",
      "309 1 2019-12-16T09:27:11.3 20.5 30\n",
      "\n"
     ]
    }
   ],
   "source": [
    "gw.export_fields()"
   ]
  },
  {
   "cell_type": "code",
   "execution_count": 11,
   "metadata": {
    "scrolled": true
   },
   "outputs": [
    {
     "name": "stdout",
     "output_type": "stream",
     "text": [
      "['1738', '1779', '1815', '1842', '1843', '1844', '1866', '1867', '256', '257', '258', '304', '305', '306', '307', '308', '309', '355', '356', '357', '358', '359', '360', '374', '407', '408', '409', '410', '411', '425', '426', '458', '459', '460', '476', '477', '478', '527', '528', '552', '553', '554', '603', '604', '631', '651', '652', '653', '678', '697', '698', '699', '700', '739', '740', '741', '742', '776', '777', '778', '809', '810', '811', '812', '837', '838']\n",
      "1738 2 0.07434375025331974\n",
      "1779 2 0.07433796301484108\n",
      "1815 2 0.0004502316005527973\n",
      "1842 4 1.0410335650667548\n",
      "1843 2 0.0004502316005527973\n",
      "1844 2 0.0004525464028120041\n",
      "1866 [2458830.69227778]\n",
      "1867 3 0.10954629629850388\n",
      "256 2 0.07680439809337258\n",
      "257 [2458831.85728704]\n",
      "258 [2458831.91544676]\n",
      "304 [2458830.77223727]\n",
      "305 4 1.1305833333171904\n",
      "306 5 3.1406087963841856\n",
      "307 3 2.09866087930277\n",
      "308 3 2.1058310181833804\n",
      "309 2 1.9762222222052515\n",
      "355 5 3.0931319440715015\n",
      "356 6 3.0981157408095896\n",
      "357 5 3.1054513887502253\n",
      "358 3 2.0994918984360993\n",
      "359 3 2.100762731395662\n",
      "360 3 2.0829872684553266\n",
      "374 [2458832.0656956]\n",
      "407 6 2.109193286858499\n",
      "408 6 3.0922268521972\n",
      "409 5 3.105025463271886\n",
      "410 5 3.1255358792841434\n",
      "411 3 2.1126261577010155\n",
      "425 [2458831.06630208]\n",
      "426 [2458832.06614583]\n",
      "458 8 3.0663391202688217\n",
      "459 4 2.1333263888955116\n",
      "460 4 2.138133102096617\n",
      "476 [2458831.06675232]\n",
      "477 [2458831.0681169]\n",
      "478 [2458832.06659606]\n",
      "527 [2458831.06720949]\n",
      "528 [2458831.06766319]\n",
      "552 3 0.9197581019252539\n",
      "553 5 1.1080370373092592\n",
      "554 3 0.9159884261898696\n",
      "603 7 2.9426516206003726\n",
      "604 10 3.0869675925932825\n",
      "631 [2458832.0675463]\n",
      "651 5 2.868201388977468\n",
      "652 10 3.049916666932404\n",
      "653 6 3.049915509298444\n",
      "678 [2458832.06799769]\n",
      "697 9 3.0480370367877185\n",
      "698 9 3.001231481321156\n",
      "699 9 3.0358321759849787\n",
      "700 6 3.034387731924653\n",
      "739 10 3.040098379831761\n",
      "740 9 3.0349247683770955\n",
      "741 9 3.033451388590038\n",
      "742 11 2.996331018395722\n",
      "776 8 3.018212962895632\n",
      "777 60 3.01626388868317\n",
      "778 10 2.995400463230908\n",
      "809 9 3.0929050925187767\n",
      "810 9 3.063158564735204\n",
      "811 8 2.9813923612236977\n",
      "812 12 2.98422337975353\n",
      "837 8 3.0876238425262272\n",
      "838 8 3.005934027954936\n"
     ]
    }
   ],
   "source": [
    "def check_pixels(gw):\n",
    "    print(gw.overlap_fields)\n",
    "    for f in gw.overlap_fields:\n",
    "        mask = np.array([x == f for x in gw.mns.data[\"field\"]])\n",
    "        data = gw.mns.data[mask]\n",
    "        obs_times = np.array([Time(data[\"UT_START\"].iat[i], format=\"isot\", scale=\"utc\").jd\n",
    "                              for i in range(len(data))])\n",
    "        if (max(obs_times) - min(obs_times)) > 0.00:\n",
    "#         if len(obs_times) > 1:\n",
    "            print(f, np.sum(mask), max(obs_times) - min(obs_times))\n",
    "        else:\n",
    "            print(f, obs_times)\n",
    "\n",
    "check_pixels(gw)"
   ]
  },
  {
   "cell_type": "code",
   "execution_count": 12,
   "metadata": {},
   "outputs": [],
   "source": [
    "# print(gw.simple_plot_overlap_with_observations(first_det_window_days=n_days))"
   ]
  },
  {
   "cell_type": "code",
   "execution_count": 13,
   "metadata": {},
   "outputs": [],
   "source": [
    "# print(gw.overlap_fields)"
   ]
  },
  {
   "cell_type": "code",
   "execution_count": 14,
   "metadata": {},
   "outputs": [],
   "source": [
    "# print(gw.mns.data)"
   ]
  },
  {
   "cell_type": "code",
   "execution_count": 15,
   "metadata": {},
   "outputs": [],
   "source": [
    "# import matplotlib.pyplot as plt\n",
    "# import numpy as np\n",
    "# from astropy.time import Time\n",
    "# import pandas as pd\n",
    "# from tqdm import tqdm\n",
    "# import healpy as hp\n",
    "# import matplotlib.patches as mpatches\n",
    "# from gwemopt.ztf_tiling import get_quadrant_ipix\n",
    "\n",
    "\n",
    "# def plot_overlap_with_observations(gw, fields=None, pid=None, first_det_window_days=None):\n",
    "#     fig = plt.figure()\n",
    "#     plt.subplot(projection=\"aitoff\")\n",
    "\n",
    "#     probs = []\n",
    "#     single_probs = []\n",
    "\n",
    "#     if fields is None:\n",
    "#         mns = gw.get_multi_night_summary(first_det_window_days)\n",
    "\n",
    "#     else:\n",
    "\n",
    "#         class MNS:\n",
    "#             def __init__(self, data):\n",
    "#                 gw.data = pandas.DataFrame(data, columns=[\"field\", \"ra\", \"dec\", \"UT_START\"])\n",
    "\n",
    "#         data = []\n",
    "\n",
    "#         for f in fields:\n",
    "#             ra, dec = ztfquery_fields.field_to_coords(f)[0]\n",
    "#             t = Time(Time.now().jd + 1., format=\"jd\").utc\n",
    "#             t.format = \"isot\"\n",
    "#             t = t.value\n",
    "#             for _ in range(2):\n",
    "#                 data.append([f, ra, dec, t])\n",
    "\n",
    "#         mns = MNS(data)\n",
    "        \n",
    "#     data = mns.data.copy()   \n",
    "    \n",
    "#     if pid is not None:\n",
    "#         pid_mask = data[\"pid\"] == str(pid)\n",
    "#         data = data[pid_mask]\n",
    "        \n",
    "#     obs_times = np.array([Time(data[\"UT_START\"].iat[i], format=\"isot\", scale=\"utc\")\n",
    "#                           for i in range(len(data))])\n",
    "    \n",
    "#     if first_det_window_days is not None:\n",
    "#         first_det_mask = [x < Time(gw.t_min.jd + first_det_window_days, format=\"jd\").utc for x in obs_times]\n",
    "#         data = data[first_det_mask]\n",
    "#         obs_times = obs_times[first_det_mask]\n",
    "    \n",
    "#     pix_obs_times = dict()\n",
    "    \n",
    "#     print(\"Unpacking observations\")\n",
    "    \n",
    "#     for i, obs_time in enumerate(tqdm(obs_times)):\n",
    "#         pix = get_quadrant_ipix(gw.ligo_nside, data[\"ra\"].iat[i], data[\"dec\"].iat[i])\n",
    "        \n",
    "#         flat_pix = []\n",
    "        \n",
    "#         for sub_list in pix:\n",
    "#             for p in sub_list:\n",
    "#                 flat_pix.append(p)\n",
    "                \n",
    "#         flat_pix = list(set(flat_pix))\n",
    "        \n",
    "#         t = obs_time.jd\n",
    "#         for p in flat_pix:\n",
    "#             if p not in pix_obs_times.keys():\n",
    "#                 pix_obs_times[p] = [t]\n",
    "#             else:\n",
    "#                 pix_obs_times[p] += [t]\n",
    "                \n",
    "#     plot_pixels = []\n",
    "#     probs = []\n",
    "#     single_pixels = []\n",
    "#     single_probs = []\n",
    "#     veto_pixels = []\n",
    "    \n",
    "#     print(\"Checking skymap\")\n",
    "    \n",
    "#     # hp.nest2ring(gw.ligo_nside, \n",
    "    \n",
    "#     for i, p in enumerate(tqdm(hp.nest2ring(gw.ligo_nside, gw.pixel_nos))):\n",
    "        \n",
    "#         if p in pix_obs_times.keys():\n",
    "            \n",
    "#             obs = pix_obs_times[p]\n",
    "            \n",
    "#             if max(obs) - min(obs) > 0.01:\n",
    "#                 plot_pixels.append(p)\n",
    "#                 probs.append(gw.map_probs[i])\n",
    "#             else:\n",
    "#                 single_pixels.append(p)\n",
    "#                 single_probs.append(gw.map_probs[i])\n",
    "#         else:\n",
    "#             veto_pixels.append(p)\n",
    "    \n",
    "#     overlap_prob = np.sum(probs) * 100.\n",
    "    \n",
    "#     size = hp.max_pixrad(gw.ligo_nside)**2 * 50.\n",
    "    \n",
    "#     print(size, gw.ligo_nside)\n",
    "    \n",
    "#     veto_pos = np.array([hp.pixelfunc.pix2ang(gw.ligo_nside, i, lonlat=True) for i in veto_pixels]).T\n",
    "\n",
    "#     plt.scatter(gw.wrap_around_180(np.radians(veto_pos[0])), np.radians(veto_pos[1]),\n",
    "#                 color=\"red\", s=size)\n",
    "    \n",
    "#     single_pos = np.array([hp.pixelfunc.pix2ang(gw.ligo_nside, i, lonlat=True) for i in single_pixels]).T\n",
    "\n",
    "#     plt.scatter(gw.wrap_around_180(np.radians(single_pos[0])), np.radians(single_pos[1]),\n",
    "#                 c=single_probs, vmin=0., vmax=max(gw.data[gw.key]), s=size, cmap='gray')\n",
    "    \n",
    "#     plot_pos = np.array([hp.pixelfunc.pix2ang(gw.ligo_nside, i, lonlat=True) for i in plot_pixels]).T\n",
    "    \n",
    "#     if len(plot_pos) > 0:\n",
    "    \n",
    "#         plt.scatter(gw.wrap_around_180(np.radians(plot_pos[0])), np.radians(plot_pos[1]),\n",
    "#                     c=probs, vmin=0., vmax=max(gw.data[gw.key]), s=size)\n",
    "\n",
    "#     red_patch = mpatches.Patch(color='red', label='Not observed')\n",
    "#     gray_patch = mpatches.Patch(color='gray', label='Observed once')\n",
    "#     plt.legend(handles=[red_patch, gray_patch])\n",
    "\n",
    "#     message = \"In total, {0} % of the LIGO contour was observed at least once. \\n \" \\\n",
    "#               \"In total, {1} % of the LIGO contour was observed at least twice. \\n\" \\\n",
    "#               \"This estimate accounts for chip gaps.\".format(\n",
    "#         100 * (np.sum(probs) + np.sum(single_probs)), overlap_prob)\n",
    "\n",
    "#     print(message)\n",
    "    \n",
    "#     all_pix = single_pixels + plot_pixels\n",
    "    \n",
    "#     n_pixels = len(single_pixels + plot_pixels)\n",
    "    \n",
    "#     area = hp.pixelfunc.nside2pixarea(gw.ligo_nside, degrees=True) * n_pixels\n",
    "\n",
    "# #     area = (2. * base_ztf_rad)**2 * float(len(overlapping_fields))\n",
    "# #     n_fields = len(overlapping_fields)\n",
    "\n",
    "#     print(\"{0} pixels were covered, covering approximately {1} sq deg.\".format(\n",
    "#         n_pixels, area))\n",
    "#     return fig, message\n",
    "# plot_overlap_with_observations(gw, pid=1, first_det_window_days=2.0)"
   ]
  },
  {
   "cell_type": "code",
   "execution_count": 16,
   "metadata": {
    "scrolled": false
   },
   "outputs": [],
   "source": [
    "# (fig, message) = gw.plot_overlap_with_observations()"
   ]
  },
  {
   "cell_type": "code",
   "execution_count": 17,
   "metadata": {},
   "outputs": [],
   "source": [
    "# res = gw.get_avro_by_name(\"ZTF19acbpole\")"
   ]
  },
  {
   "cell_type": "code",
   "execution_count": 18,
   "metadata": {},
   "outputs": [],
   "source": [
    "# def get_lightcurve(ztf_res):\n",
    "#     lc = []\n",
    "#     for x in [ztf_res] + [ztf_res][\"prv_candidates\"]:\n",
    "#         print(x[\"\"])\n",
    "    \n",
    "# get_lightcurve(res)"
   ]
  },
  {
   "cell_type": "code",
   "execution_count": 19,
   "metadata": {},
   "outputs": [],
   "source": [
    "# import numpy as np\n",
    "# from astropy.time import Time\n",
    "\n",
    "# mns = gw.get_multi_night_summary()\n",
    "# obs_times = np.array([Time(mns.data[\"UT_START\"].iat[i], format=\"isot\", scale=\"utc\")\n",
    "#                       for i in range(len(mns.data)) if mns.data[\"field\"].iat[i]])"
   ]
  },
  {
   "cell_type": "code",
   "execution_count": 20,
   "metadata": {
    "scrolled": true
   },
   "outputs": [],
   "source": [
    "# fig = gw.plot_ztf_observations()"
   ]
  },
  {
   "cell_type": "code",
   "execution_count": 21,
   "metadata": {},
   "outputs": [],
   "source": [
    "# print(gw.draft_gcn())"
   ]
  },
  {
   "cell_type": "code",
   "execution_count": 22,
   "metadata": {
    "scrolled": true
   },
   "outputs": [],
   "source": [
    "# import numpy as np\n",
    "\n",
    "# name = \"ZTF20aaerqjd\"\n",
    "\n",
    "# res = gw.get_avro_by_name(name)\n",
    "\n",
    "# print(gw.filter_f_no_prv(res), gw.filter_f_history(res))\n",
    "\n",
    "# print(gw.check_ampel_filter(name))\n",
    "\n",
    "# # Veto old transients\n",
    "# if res[\"candidate\"][\"jdstarthist\"] < gw.t_min.jd:\n",
    "#     print(\"Time\")\n",
    "\n",
    "# # Require 2 detections separated by 15 mins\n",
    "# if (res[\"candidate\"][\"jdendhist\"] - res[\"candidate\"][\"jdstarthist\"]) < 0.01:\n",
    "#     print(\"Delta t\")\n",
    "\n",
    "# # Require 2 positive detections\n",
    "# old_detections = [x for x in res[\"prv_candidates\"] if np.logical_and(\n",
    "#     x[\"isdiffpos\"] is not None,\n",
    "#     np.logical_and(x[\"jd\"] > gw.t_min.jd, x[\"jd\"] < gw.default_t_max.jd))]\n",
    "\n",
    "# # print(res[\"prv_candidates\"])\n",
    "\n",
    "# pos_detections = [x for x in old_detections if x['isdiffpos'] in [\"t\", \"1\"]]\n",
    "\n",
    "# if len(pos_detections) < 1:\n",
    "#     print(\"Pos\")\n"
   ]
  },
  {
   "cell_type": "code",
   "execution_count": 23,
   "metadata": {},
   "outputs": [],
   "source": [
    "# res = gw.get_avro_by_name(\"ZTF19abygvmp\")\n",
    "# # print(res)\n",
    "# gw.cache[res[\"objectId\"]] = res"
   ]
  },
  {
   "cell_type": "code",
   "execution_count": 24,
   "metadata": {},
   "outputs": [],
   "source": [
    "# gw.add_to_cache_by_names(\"ZTF19acbpauu\", \"ZTF19acbpdbs\", \"ZTF19acbpjbq\", \"ZTF19acbpkob\", \"ZTF19acbpmzs\", \"ZTF19acbpole\", \"ZTF19acbpqki\", \"ZTF19acbpqlh\", \"ZTF19acbpqvc\", \"ZTF19acbprgt\", \"ZTF19acbpsuf\", \"ZTF19acbpthm\", \"ZTF19acbpvix\", \"ZTF19acbqift\", \"ZTF19acbqrsk\", \"ZTF19acbqvya\", \"ZTF19acbqvyc\", \"ZTF19acbqyjb\", \"ZTF19acbqyjc\", \"ZTF19acbqzvu\", \"ZTF19acbqzzk\", \"ZTF19acbrhzw\", \"ZTF19acbrhzw\", \"ZTF19acbugyi\", \"ZTF19acbvcos\", \"ZTF19acbveok\", \"ZTF19acbvgdu\", \"ZTF19acbvisk\", \"ZTF19acbvkbi\", \"ZTF19acbvlqa\", \"ZTF19acbvlrl\", \"ZTF19acbvlry\")\n",
    "# gw.cache = dict()\n",
    "# gw.add_to_cache_by_names(\"ZTF19acbpsuf\", \"ZTF19acbpqlh\", \"ZTF19acbvisk\", \"ZTF19acbvkbi\", \"ZTF19acbwaah\")\n",
    "# print(gw.draft_gcn())\n",
    "# print(gw.text_summary())"
   ]
  },
  {
   "cell_type": "code",
   "execution_count": 25,
   "metadata": {},
   "outputs": [],
   "source": [
    "# import numpy as np\n",
    "\n",
    "\n",
    "\n",
    "# def tns_summary(g):\n",
    "    \n",
    "#     for name, res in sorted(g.cache.items()):\n",
    "#         detections = [x for x in res[\"prv_candidates\"] + [res[\"candidate\"]] if x[\"isdiffpos\"] is not None]\n",
    "#         detection_jds = [x[\"jd\"] for x in detections]\n",
    "#         first_detection = detections[detection_jds.index(min(detection_jds))]\n",
    "#         latest = [x for x in res[\"prv_candidates\"] + [res[\"candidate\"]] if x[\"isdiffpos\"] is not None][-1]\n",
    "#         try:\n",
    "#             last_upper_limit = [x for x in res[\"prv_candidates\"] if np.logical_and(x[\"isdiffpos\"] is None, x[\"jd\"] < first_detection[\"jd\"])][-1]\n",
    "#         except:\n",
    "#             last_upper_limit = {\"jd\": res[\"candidate\"][\"jdendref\"], \"fid\": 1, \"diffmaglim\": np.nan}\n",
    "#             print(res[\"candidate\"].keys())\n",
    "#         print(\"Candidate:\", name, res[\"candidate\"][\"ra\"], res[\"candidate\"][\"dec\"], first_detection[\"jd\"])\n",
    "#         print(\"Last Upper Limit:\", last_upper_limit[\"jd\"], parse_ztf_filter(last_upper_limit[\"fid\"]), last_upper_limit[\"diffmaglim\"])\n",
    "#         print(\"First Detection:\", first_detection[\"jd\"], parse_ztf_filter(first_detection[\"fid\"]), first_detection[\"magpsf\"], first_detection[\"sigmapsf\"])\n",
    "#         print(\"First observed {0} hours after merger\".format(24. * (first_detection[\"jd\"]-g.t_min.jd)))\n",
    "#         print(\"It has risen\", -latest[\"magpsf\"] + last_upper_limit[\"diffmaglim\"], parse_ztf_filter(latest[\"fid\"]), parse_ztf_filter(last_upper_limit[\"fid\"]))\n",
    "#         print([x[\"jd\"] for x in res[\"prv_candidates\"] + [res[\"candidate\"]] if x[\"isdiffpos\"] is not None])\n",
    "#         print(\"\\n\")        \n",
    "        \n",
    "        \n",
    "# tns_summary(gw)"
   ]
  },
  {
   "cell_type": "markdown",
   "metadata": {},
   "source": [
    "Alternative methods for starting the GW scanner:"
   ]
  },
  {
   "cell_type": "code",
   "execution_count": 26,
   "metadata": {},
   "outputs": [],
   "source": [
    "# gw = GravWaveScanner(logger=logger) # Grab most recent\n",
    "# gw = GravWaveScanner(\"S190814bv\", prob_threshold=0.99, logger=logger) # Grab most recent revision of \"S190814bv\" up to 99%\n",
    "# gw = GravWaveScanner(gw_file=\"https://wiki.gw-astronomy.org/pub/OpenLVEM/FermiGBM-LVC/GBM-190816-with-LV-v2.fits\", prob_threshold=0.9, logger=logger) # Use manual file"
   ]
  },
  {
   "cell_type": "code",
   "execution_count": null,
   "metadata": {},
   "outputs": [],
   "source": [
    "\n"
   ]
  },
  {
   "cell_type": "code",
   "execution_count": null,
   "metadata": {},
   "outputs": [],
   "source": []
  },
  {
   "cell_type": "code",
   "execution_count": null,
   "metadata": {},
   "outputs": [],
   "source": []
  }
 ],
 "metadata": {
  "kernelspec": {
   "display_name": "ZTF_TOO",
   "language": "python",
   "name": "ztf_too"
  },
  "language_info": {
   "codemirror_mode": {
    "name": "ipython",
    "version": 3
   },
   "file_extension": ".py",
   "mimetype": "text/x-python",
   "name": "python",
   "nbconvert_exporter": "python",
   "pygments_lexer": "ipython3",
   "version": "3.7.4"
  }
 },
 "nbformat": 4,
 "nbformat_minor": 2
}
