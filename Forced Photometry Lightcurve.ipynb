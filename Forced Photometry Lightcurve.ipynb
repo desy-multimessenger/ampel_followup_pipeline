{
 "cells": [
  {
   "cell_type": "markdown",
   "metadata": {},
   "source": [
    "This code should be run on data that has been obtained from the IPAC forced photometry pipeline"
   ]
  },
  {
   "cell_type": "code",
   "execution_count": 1,
   "metadata": {},
   "outputs": [],
   "source": [
    "from pathlib import Path\n",
    "import os\n",
    "import numpy as np\n",
    "import matplotlib.pyplot as plt\n",
    "%matplotlib inline"
   ]
  },
  {
   "cell_type": "code",
   "execution_count": 2,
   "metadata": {},
   "outputs": [],
   "source": [
    "file_name = \"IC190730A_forced.txt\""
   ]
  },
  {
   "cell_type": "code",
   "execution_count": 3,
   "metadata": {},
   "outputs": [
    {
     "name": "stdout",
     "output_type": "stream",
     "text": [
      "/Users/avocado/ZTF_Neutrino_ToO/forced_photometry/IC190730A_forced.txt\n"
     ]
    }
   ],
   "source": [
    "file_path = os.path.join(Path().absolute(), \"forced_photometry\")\n",
    "file_path = os.path.join(file_path, file_name)\n",
    "print(file_path)\n",
    "\n",
    "parsed_data = []\n",
    "\n",
    "with open(file_path, \"r\") as f:\n",
    "    for line in f:\n",
    "        if line[0] not in [\"#\"]:\n",
    "            # Remove /n\n",
    "            line = line[:-1]\n",
    "            parsed_line = [x for x in line.split(\" \") if x != \"\"]\n",
    "            \n",
    "            if parsed_line [0] not in [\"index,\"]:\n",
    "                parsed_data.append(tuple(parsed_line[:6] + parsed_line[15:18] + parsed_line[23:28]\n",
    "                                         + parsed_line[32:33] + parsed_line[34:38] + parsed_line[39:46]\n",
    "                                         + parsed_line[47:50] + parsed_line[52:]))\n",
    "            \n",
    "\n",
    "            \n",
    "parsed_data = np.array(parsed_data, dtype=np.dtype([\n",
    "    (\"index\", np.int),\n",
    "    (\"field\", np.int),\n",
    "    (\"ccdid\", np.int),\n",
    "    (\"qid\", np.int),\n",
    "    (\"filter\", \"S100\"),\n",
    "    (\"pid\", np.int),\n",
    "    (\"scimaglim\", np.float),\n",
    "    (\"zpmaginpsci\", np.float),\n",
    "    (\"zpmaginpsciunc\", np.float),\n",
    "    (\"diffmaglim\", np.float),\n",
    "    (\"zpdiff\", np.float),\n",
    "    (\"programid\", np.int),\n",
    "    (\"obsdate\", \"S100\"),\n",
    "    (\"jd\", np.float),\n",
    "    (\"refmaglim\", np.float),\n",
    "    (\"zpref\", np.float),\n",
    "    (\"refcreated\", \"S100\"),\n",
    "    (\"refjdstart\", np.float),\n",
    "    (\"refjdend\", np.float),\n",
    "    (\"forcediffimflux\", np.float),\n",
    "    (\"forcediffimfluxunc\", np.float),\n",
    "    (\"forcediffimsnr\", np.float),\n",
    "    (\"forcediffimchisq\", np.float),\n",
    "    (\"forcediffimfluxap\", np.float),\n",
    "    (\"forcediffimfluxuncap\", np.float),\n",
    "    (\"forcediffimsnrap\", np.float),\n",
    "    (\"dnearestrefsrc\", np.float),\n",
    "    (\"nearestrefmag\", np.float),\n",
    "    (\"nearestrefmagunc\", np.float),\n",
    "    (\"procstatus\", np.int)\n",
    "]))"
   ]
  },
  {
   "cell_type": "code",
   "execution_count": 10,
   "metadata": {},
   "outputs": [
    {
     "name": "stderr",
     "output_type": "stream",
     "text": [
      "/Users/avocado/anaconda2/envs/ztf_too_env/lib/python3.7/site-packages/ipykernel_launcher.py:13: RuntimeWarning: invalid value encountered in sqrt\n",
      "  del sys.path[0]\n",
      "/Users/avocado/anaconda2/envs/ztf_too_env/lib/python3.7/site-packages/ipykernel_launcher.py:22: RuntimeWarning: invalid value encountered in greater\n"
     ]
    },
    {
     "data": {
      "text/plain": [
       "<matplotlib.legend.Legend at 0x10e05aef0>"
      ]
     },
     "execution_count": 10,
     "metadata": {},
     "output_type": "execute_result"
    },
    {
     "data": {
      "image/png": "[encoded data removed]",
      "text/plain": [
       "<Figure size 432x288 with 1 Axes>"
      ]
     },
     "metadata": {
      "needs_background": "light"
     },
     "output_type": "display_data"
    }
   ],
   "source": [
    "snt = 3\n",
    "snu = 5\n",
    "\n",
    "plt.figure()\n",
    "\n",
    "for j, band in enumerate(list(set(parsed_data[\"filter\"]))):\n",
    "    data = parsed_data[parsed_data[\"filter\"] == band]\n",
    "    \n",
    "    nrf = 10**(0.4*(data[\"zpdiff\"] - data[\"nearestrefmag\"]))\n",
    "    nrfu = data[\"nearestrefmagunc\"] * nrf/ 1.0857\n",
    "    \n",
    "    flux_tot = data[\"forcediffimflux\"] + nrf\n",
    "    flux_tot_unc = (data[\"forcediffimfluxunc\"]**2 - nrfu**2)**0.5\n",
    "    \n",
    "    snr = flux_tot / flux_tot_unc\n",
    "    \n",
    "    mag = data[\"zpdiff\"] - 2.5 * np.log10(flux_tot)\n",
    "    unc = 1.0857 / snr\n",
    "    \n",
    "    uls = data[\"zpdiff\"] - 2.5 * np.log10(snu * flux_tot_unc)\n",
    "    \n",
    "    mask = snr > snt\n",
    "        \n",
    "    plt.errorbar(data[\"jd\"][mask], mag[mask], marker=\"o\", label=band.decode(), color=[\"orange\", \"g\", \"r\"][j], yerr=unc[mask], ls='none')\n",
    "    plt.scatter(data[\"jd\"][~mask], uls[~mask], marker=\"v\", color=\"k\", s=100)\n",
    "    plt.scatter(data[\"jd\"][~mask], uls[~mask], marker=\"v\", color=[\"orange\", \"g\", \"r\"][j])\n",
    "\n",
    "plt.gca().invert_yaxis()\n",
    "plt.legend()\n",
    "    \n",
    "#     print(data)"
   ]
  },
  {
   "cell_type": "code",
   "execution_count": null,
   "metadata": {},
   "outputs": [],
   "source": []
  }
 ],
 "metadata": {
  "kernelspec": {
   "display_name": "ztf_too_env",
   "language": "python",
   "name": "ztf_too_env"
  },
  "language_info": {
   "codemirror_mode": {
    "name": "ipython",
    "version": 3
   },
   "file_extension": ".py",
   "mimetype": "text/x-python",
   "name": "python",
   "nbconvert_exporter": "python",
   "pygments_lexer": "ipython3",
   "version": "3.7.3"
  }
 },
 "nbformat": 4,
 "nbformat_minor": 2
}
