{
 "cells": [
  {
   "cell_type": "code",
   "execution_count": 1,
   "metadata": {},
   "outputs": [],
   "source": [
    "%matplotlib inline\n",
    "from ztfquery import query\n",
    "import numpy as np\n",
    "import datetime\n",
    "from tqdm import tqdm\n"
   ]
  },
  {
   "cell_type": "code",
   "execution_count": 18,
   "metadata": {
    "scrolled": true
   },
   "outputs": [],
   "source": [
    "class MultiNightSummary(query._ZTFTableHandler_):\n",
    "    \n",
    "    def __init__(self, start_date=None, end_date=None):\n",
    "        self.nights = self.find_nights(start_date, end_date)\n",
    "        \n",
    "        print(\"Using {0} Nightly Sumaries between {1} and {2}\".format(\n",
    "            len(self.nights), self.nights[0], self.nights[-1]))\n",
    "        \n",
    "        self.data, self.missing_nights = self.stack_nights()\n",
    "        \n",
    "        print(\"Of these, {0} nights are missing because ZTF did not observe.\".format(len(self.missing_nights)))\n",
    "        \n",
    "    @staticmethod\n",
    "    def find_nights(start_date=None, end_date=None):\n",
    "        date_format = \"%Y%m%d\"\n",
    "    \n",
    "        if start_date is None:\n",
    "            now = datetime.datetime.now()\n",
    "            start_time = now - datetime.timedelta(days=30)\n",
    "        else:\n",
    "            start_time = datetime.datetime.strptime(str(start_date), date_format)\n",
    "        if end_date is None:\n",
    "            end_time = datetime.datetime.now()\n",
    "        else:\n",
    "            end_time = datetime.datetime.strptime(str(end_date), date_format)\n",
    "            \n",
    "        if start_time > end_time:\n",
    "            raise ValueError(\"Start time {0} occurs after end time {1}.\".format(start_time, end_time))\n",
    "\n",
    "        delta_t = (end_time - start_time).days\n",
    "        \n",
    "        dates = [(start_time + datetime.timedelta(days=x)).strftime(date_format) for x in range(0, delta_t + 1)]\n",
    "        \n",
    "        return dates\n",
    "        \n",
    "    def stack_nights(self):\n",
    "        ns = None\n",
    "        missing_nights = []\n",
    "    \n",
    "        for night in tqdm(self.nights):\n",
    "            new_ns = self.get_ztf_data(night)\n",
    "            \n",
    "            if ns is None:\n",
    "                ns = new_ns\n",
    "\n",
    "            if new_ns is not None:\n",
    "                ns.data = ns.data.append(new_ns.data)\n",
    "            else:\n",
    "                missing_nights.append(night)\n",
    "                \n",
    "        return ns.data, missing_nights\n",
    "    \n",
    "    @staticmethod\n",
    "    def get_ztf_data(date=None):\n",
    "        \"\"\"Function to grab data for a given date using ztfquery. \n",
    "        Date should be given in format YYYYMMDD, with the day being the UT day for the END of the night.\n",
    "        By default, today is selected. Returns a NightSummary if one is available, or None otherwise \n",
    "        (None is returned if there are no ZTF observations).\n",
    "        \"\"\"\n",
    "        if date is None:\n",
    "            print(\"No date specified. Assuming today.\")\n",
    "            now = datetime.datetime.now()\n",
    "            date = now.strftime(\"%Y%m%d\")\n",
    "        try:\n",
    "            return query.NightSummary(date)\n",
    "        # query returns an index error is no ztf data is found\n",
    "        except IndexError:\n",
    "            return None\n",
    "        \n",
    "    @staticmethod\n",
    "    def wrap_around_180(ra):\n",
    "        ra[ra > np.pi] -= 2 * np.pi\n",
    "        return ra\n",
    "        \n",
    "    def count_obs(self, ra_deg, dec_deg):\n",
    "        ra_deg = np.degrees(self.wrap_around_180(np.radians(np.array([ra_deg]))))\n",
    "        ras = np.degrees(self.wrap_around_180(np.array([np.radians(float(x)) for x in self.data[\"ra\"]])))\n",
    "#         ra_deg = np.degrees(ra)\n",
    "#         dec_deg = np.degrees(dec)\n",
    "        ztf_rad = 3.5 / np.cos(np.radians(dec_deg))\n",
    "\n",
    "        obs = []      \n",
    "\n",
    "        for i, x in enumerate(self.data[\"dec\"]):            \n",
    "            if np.logical_and(not dec_deg < float(x) - ztf_rad, not dec_deg > float(x) + ztf_rad):\n",
    "                if np.logical_and(not ra_deg < float(ras[i]) - ztf_rad, not ra_deg > float(ras[i]) + ztf_rad):\n",
    "                    obs.append(np.array(self.data)[i])\n",
    "\n",
    "        return np.array(obs)"
   ]
  },
  {
   "cell_type": "code",
   "execution_count": 19,
   "metadata": {},
   "outputs": [
    {
     "name": "stderr",
     "output_type": "stream",
     "text": [
      "\r",
      "  0%|          | 0/2 [00:00<?, ?it/s]"
     ]
    },
    {
     "name": "stdout",
     "output_type": "stream",
     "text": [
      "Using 2 Nightly Sumaries between 20190829 and 20190830\n"
     ]
    },
    {
     "name": "stderr",
     "output_type": "stream",
     "text": [
      "100%|██████████| 2/2 [00:02<00:00,  1.03s/it]"
     ]
    },
    {
     "name": "stdout",
     "output_type": "stream",
     "text": [
      "Of these, 0 nights are missing because ZTF did not observe.\n"
     ]
    },
    {
     "name": "stderr",
     "output_type": "stream",
     "text": [
      "\n"
     ]
    }
   ],
   "source": [
    "mns = MultiNightSummary(start_date=20190829)"
   ]
  },
  {
   "cell_type": "code",
   "execution_count": 20,
   "metadata": {},
   "outputs": [
    {
     "data": {
      "text/plain": [
       "array([['2019-08-29T10:32:28.4', '-32', '30', '1', 'targ', '351', '1',\n",
       "        '47.4959', '-9.8500', '27.91', '14.3',\n",
       "        'ztf_20190829439167_000351_zg', 'Kulkarni', 'all_sky'],\n",
       "       ['2019-08-29T10:32:28.4', '-32', '30', '1', 'targ', '351', '1',\n",
       "        '47.4959', '-9.8500', '27.91', '14.3',\n",
       "        'ztf_20190829439167_000351_zg', 'Kulkarni', 'all_sky']],\n",
       "      dtype=object)"
      ]
     },
     "execution_count": 20,
     "metadata": {},
     "output_type": "execute_result"
    }
   ],
   "source": [
    "mns.count_obs(44.540, -8.968)"
   ]
  },
  {
   "cell_type": "code",
   "execution_count": null,
   "metadata": {},
   "outputs": [],
   "source": [
    "mns.show_gri_fields()"
   ]
  },
  {
   "cell_type": "code",
   "execution_count": null,
   "metadata": {},
   "outputs": [],
   "source": []
  },
  {
   "cell_type": "code",
   "execution_count": null,
   "metadata": {},
   "outputs": [],
   "source": []
  },
  {
   "cell_type": "code",
   "execution_count": null,
   "metadata": {},
   "outputs": [],
   "source": []
  }
 ],
 "metadata": {
  "kernelspec": {
   "display_name": "ZTF_ToO",
   "language": "python",
   "name": "ztf_too"
  },
  "language_info": {
   "codemirror_mode": {
    "name": "ipython",
    "version": 3
   },
   "file_extension": ".py",
   "mimetype": "text/x-python",
   "name": "python",
   "nbconvert_exporter": "python",
   "pygments_lexer": "ipython3",
   "version": "3.7.4"
  }
 },
 "nbformat": 4,
 "nbformat_minor": 2
}
