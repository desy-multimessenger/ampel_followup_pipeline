{
 "cells": [
  {
   "cell_type": "code",
   "execution_count": 13,
   "metadata": {},
   "outputs": [],
   "source": [
    "from ampel_magic import ampel_client, AmpelWizard"
   ]
  },
  {
   "cell_type": "code",
   "execution_count": 14,
   "metadata": {},
   "outputs": [],
   "source": [
    "def query_ampel(ra_deg, dec_deg, rad_deg, time=None):\n",
    "    ztf_object = ampel_client.get_alerts_in_cone(\n",
    "            ra_deg, dec_deg, rad_deg, with_history=True)\n",
    "    query_res = [i for i in ztf_object]\n",
    "    return AmpelWizard.merge_alerts(query_res)\n",
    "    "
   ]
  },
  {
   "cell_type": "code",
   "execution_count": 21,
   "metadata": {},
   "outputs": [],
   "source": [
    "res = query_ampel(44.540, -8.968, 0.05)"
   ]
  },
  {
   "cell_type": "code",
   "execution_count": 22,
   "metadata": {},
   "outputs": [
    {
     "name": "stdout",
     "output_type": "stream",
     "text": [
      "['ZTF19abkfull', 'ZTF19abkfulg']\n"
     ]
    }
   ],
   "source": [
    "print(list(set([x[\"objectId\"] for x in res])))"
   ]
  },
  {
   "cell_type": "code",
   "execution_count": null,
   "metadata": {},
   "outputs": [],
   "source": []
  }
 ],
 "metadata": {
  "kernelspec": {
   "display_name": "ZTF_ToO",
   "language": "python",
   "name": "ztf_too"
  },
  "language_info": {
   "codemirror_mode": {
    "name": "ipython",
    "version": 3
   },
   "file_extension": ".py",
   "mimetype": "text/x-python",
   "name": "python",
   "nbconvert_exporter": "python",
   "pygments_lexer": "ipython3",
   "version": "3.7.4"
  }
 },
 "nbformat": 4,
 "nbformat_minor": 2
}
